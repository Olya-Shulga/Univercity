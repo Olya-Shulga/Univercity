{
  "nbformat": 4,
  "nbformat_minor": 0,
  "metadata": {
    "colab": {
      "provenance": [],
      "include_colab_link": true
    },
    "kernelspec": {
      "name": "python3",
      "display_name": "Python 3"
    },
    "language_info": {
      "name": "python"
    }
  },
  "cells": [
    {
      "cell_type": "markdown",
      "metadata": {
        "id": "view-in-github",
        "colab_type": "text"
      },
      "source": [
        "<a href=\"https://colab.research.google.com/github/Olya-Shulga/Univercity/blob/main/Tasks/%D0%94%D0%9F%D0%9E_%D0%9E%D1%81%D0%BD%D0%BE%D0%B2%D1%8B_Python_%D0%9F%D1%80%D0%B0%D0%BA%D1%82%D0%B8%D1%87%D0%B5%D1%81%D0%BA%D0%B0%D1%8F_%D1%80%D0%B0%D0%B1%D0%BE%D1%82%D0%B0_2_ipynb.ipynb\" target=\"_parent\"><img src=\"https://colab.research.google.com/assets/colab-badge.svg\" alt=\"Open In Colab\"/></a>"
      ]
    },
    {
      "cell_type": "markdown",
      "source": [
        "# **Практическая работа №2. Введение в Python. Циклы в Python: for и while. Функции в Python. Обработка исключений в Python (try, except, else, finally)**\n",
        "\n",
        "---\n",
        "\n",
        "\n"
      ],
      "metadata": {
        "id": "QliphIp1pbse"
      }
    },
    {
      "cell_type": "markdown",
      "source": [
        "**Обучающийся:** *[Шульга Ольга Петровна]*  "
      ],
      "metadata": {
        "id": "tTK8mNGDqA8Z"
      }
    },
    {
      "cell_type": "markdown",
      "source": [
        "\n",
        "\n",
        "---"
      ],
      "metadata": {
        "id": "wTJjWD61p_dZ"
      }
    },
    {
      "cell_type": "markdown",
      "source": [
        "## **Блок заданий №1. Циклы в Python: for и while**\n",
        "\n"
      ],
      "metadata": {
        "id": "-iXZOjjEoLsS"
      }
    },
    {
      "cell_type": "markdown",
      "source": [
        "### 1. **Сумма чисел от 1 до N**  \n",
        "   Напишите программу, которая запрашивает у пользователя число `N` и с помощью цикла `for` вычисляет сумму всех чисел от 1 до `N`."
      ],
      "metadata": {
        "id": "1Vy5lAnxoTrL"
      }
    },
    {
      "cell_type": "code",
      "source": [
        "user_number = int(input(\"Введите целове число: \"))\n",
        "sum = 0\n",
        "# user_number+1 - для того, чтобы в число пользователя входило в диапазон range\n",
        "for number in range(1, user_number+1):\n",
        "    sum += number\n",
        "print(f\"Сумма чисел от 1 до {user_number} = {sum}\")"
      ],
      "metadata": {
        "id": "GNtKZwXSoSNg",
        "colab": {
          "base_uri": "https://localhost:8080/"
        },
        "outputId": "dd92507f-335c-4edb-d2c7-17800daf2a9f"
      },
      "execution_count": null,
      "outputs": [
        {
          "output_type": "stream",
          "name": "stdout",
          "text": [
            "Введите целове число: 3\n",
            "Сумма чисел от 1 до 3 = 6\n"
          ]
        }
      ]
    },
    {
      "cell_type": "markdown",
      "source": [
        "\n",
        "### 2. **Вывод четных чисел**  \n",
        "   Используя цикл `while`, напишите программу, которая выводит все четные числа от 1 до 100."
      ],
      "metadata": {
        "id": "JgNf_8IToNQH"
      }
    },
    {
      "cell_type": "code",
      "source": [
        "number = 1\n",
        "while number <= 100:\n",
        "    if number % 2 == 0:\n",
        "        print(number)\n",
        "    number += 1\n",
        "\n",
        "# Или сразу взять только четные, не тратя время для проверки на деление на 2\n",
        "# number = 2\n",
        "# while number <= 100:\n",
        "    # print(number)\n",
        "    # number += 2"
      ],
      "metadata": {
        "id": "0Mgimf-9oWjm",
        "colab": {
          "base_uri": "https://localhost:8080/"
        },
        "outputId": "eccdb85c-999b-4fae-f43d-8fc355b289a4"
      },
      "execution_count": null,
      "outputs": [
        {
          "output_type": "stream",
          "name": "stdout",
          "text": [
            "2\n",
            "4\n",
            "6\n",
            "8\n",
            "10\n",
            "12\n",
            "14\n",
            "16\n",
            "18\n",
            "20\n",
            "22\n",
            "24\n",
            "26\n",
            "28\n",
            "30\n",
            "32\n",
            "34\n",
            "36\n",
            "38\n",
            "40\n",
            "42\n",
            "44\n",
            "46\n",
            "48\n",
            "50\n",
            "52\n",
            "54\n",
            "56\n",
            "58\n",
            "60\n",
            "62\n",
            "64\n",
            "66\n",
            "68\n",
            "70\n",
            "72\n",
            "74\n",
            "76\n",
            "78\n",
            "80\n",
            "82\n",
            "84\n",
            "86\n",
            "88\n",
            "90\n",
            "92\n",
            "94\n",
            "96\n",
            "98\n",
            "100\n"
          ]
        }
      ]
    },
    {
      "cell_type": "markdown",
      "source": [
        "### 3. **Таблица умножения**  \n",
        "   Напишите программу, которая с помощью вложенного цикла `for` выводит таблицу умножения (от 1 до 10)."
      ],
      "metadata": {
        "id": "WvLRnMt8oOpv"
      }
    },
    {
      "cell_type": "markdown",
      "source": [
        "**Пример выходных данных**\n",
        "```\n",
        "   1   2   3   4   5   6   7   8   9  10\n",
        "   2   4   6   8  10  12  14  16  18  20\n",
        "   3   6   9  12  15  18  21  24  27  30\n",
        "   4   8  12  16  20  24  28  32  36  40\n",
        "   5  10  15  20  25  30  35  40  45  50\n",
        "   6  12  18  24  30  36  42  48  54  60\n",
        "   7  14  21  28  35  42  49  56  63  70\n",
        "   8  16  24  32  40  48  56  64  72  80\n",
        "   9  18  27  36  45  54  63  72  81  90\n",
        "  10  20  30  40  50  60  70  80  90 100\n",
        "```\n"
      ],
      "metadata": {
        "id": "lMCzrvNAuiPt"
      }
    },
    {
      "cell_type": "code",
      "source": [
        "# Первый множитель (проходим по строкам)\n",
        "for i in range(1, 11):\n",
        "    # Второй множитель (проходим по столбцам)\n",
        "    for j in range(1, 11):\n",
        "        # f\"{i*j:3}\" - форматируем число, чтобы оно занимало 3 символа (для ровного вывода, как в примере)\n",
        "        # end=\" \" - не переходим на новую строку после каждого числа, а ставим пробел\n",
        "        print(f\"{i*j:3}\", end=\" \")\n",
        "    # после каждой заполненной строки переходим на новую\n",
        "    print()"
      ],
      "metadata": {
        "id": "9bTYZUCqoW9l",
        "colab": {
          "base_uri": "https://localhost:8080/"
        },
        "outputId": "cfd02da8-b69b-4a67-a05b-e3d0abfefa6d"
      },
      "execution_count": null,
      "outputs": [
        {
          "output_type": "stream",
          "name": "stdout",
          "text": [
            "  1   2   3   4   5   6   7   8   9  10 \n",
            "  2   4   6   8  10  12  14  16  18  20 \n",
            "  3   6   9  12  15  18  21  24  27  30 \n",
            "  4   8  12  16  20  24  28  32  36  40 \n",
            "  5  10  15  20  25  30  35  40  45  50 \n",
            "  6  12  18  24  30  36  42  48  54  60 \n",
            "  7  14  21  28  35  42  49  56  63  70 \n",
            "  8  16  24  32  40  48  56  64  72  80 \n",
            "  9  18  27  36  45  54  63  72  81  90 \n",
            " 10  20  30  40  50  60  70  80  90 100 \n"
          ]
        }
      ]
    },
    {
      "cell_type": "markdown",
      "source": [
        "### 4. **Обратный отсчет**  \n",
        "   Напишите программу, которая с помощью цикла `while` выводит обратный отсчет от 10 до 1, а затем выводит сообщение \"Старт!\"."
      ],
      "metadata": {
        "id": "alRU4K6moPoX"
      }
    },
    {
      "cell_type": "code",
      "source": [
        "number = 10\n",
        "while number >= 1:\n",
        "    print(number)\n",
        "    number -= 1\n",
        "print(\"Старт!\")"
      ],
      "metadata": {
        "id": "xlwpaJbkoXja",
        "colab": {
          "base_uri": "https://localhost:8080/"
        },
        "outputId": "34569269-8263-445c-cd45-32c5a97f0617"
      },
      "execution_count": null,
      "outputs": [
        {
          "output_type": "stream",
          "name": "stdout",
          "text": [
            "10\n",
            "9\n",
            "8\n",
            "7\n",
            "6\n",
            "5\n",
            "4\n",
            "3\n",
            "2\n",
            "1\n",
            "Старт!\n"
          ]
        }
      ]
    },
    {
      "cell_type": "markdown",
      "source": [
        "\n",
        "\n",
        "### 5. **Поиск максимального числа**  \n",
        "   Напишите программу, которая запрашивает у пользователя 5 чисел и с помощью цикла `for` находит и выводит максимальное из них."
      ],
      "metadata": {
        "id": "ZOrByPyjoQrK"
      }
    },
    {
      "cell_type": "code",
      "source": [
        "number_1 = int(input(\"Введите целое число 1: \"))\n",
        "# Предположим, что первое введенное число самое большое\n",
        "max_number = number_1\n",
        "\n",
        "for i in range(2,6):\n",
        "  # запрашиваем у пользователя следующее число и сравниваем с максимальным\n",
        "    user_number = int(input(f\"Введите целое число {i}: \"))\n",
        "    if user_number >= max_number:\n",
        "        max_number = user_number\n",
        "print(f\"Максимальное число из введенных: {max_number}\")\n",
        "\n"
      ],
      "metadata": {
        "id": "nPiZGu03oX6V",
        "colab": {
          "base_uri": "https://localhost:8080/"
        },
        "outputId": "e6ba341c-cc31-4d78-b9be-8f5e427c88ee"
      },
      "execution_count": null,
      "outputs": [
        {
          "output_type": "stream",
          "name": "stdout",
          "text": [
            "Введите целое число 1: 4\n",
            "Введите целое число 2: 4\n",
            "Введите целое число 3: 4\n",
            "Введите целое число 4: 4\n",
            "Введите целое число 5: 4\n",
            "Максимальное число из введенных: 4\n"
          ]
        }
      ]
    },
    {
      "cell_type": "markdown",
      "source": [
        "## **Блок заданий №2. Функции в Python**\n"
      ],
      "metadata": {
        "id": "n3_ntES4op47"
      }
    },
    {
      "cell_type": "markdown",
      "source": [
        "При написании функций используйте аннотацию типов, а также добавляйте строку документации."
      ],
      "metadata": {
        "id": "e8JyxIPov56d"
      }
    },
    {
      "cell_type": "markdown",
      "source": [
        "### 1. **Функция для вычисления факториала**  \n",
        "   Напишите функцию `factorial(n)`, которая принимает число `n` и возвращает его факториал. Проверьте работу функции на нескольких примерах.\n",
        "\n",
        "\n",
        "\n",
        "\n",
        "\n",
        "\n",
        "\n"
      ],
      "metadata": {
        "id": "0hZbwgVmocJb"
      }
    },
    {
      "cell_type": "code",
      "source": [
        "import math\n",
        "\n",
        "def factorial(n):\n",
        "    \"\"\"\n",
        "    Функция возращает занчение факториала.\n",
        "\n",
        "    Параметры:\n",
        "    n - числовое значение для преобразования.\n",
        "\n",
        "    Возвращает:\n",
        "    factorial_n - числовое значение вычисленного факториала.\n",
        "    \"\"\"\n",
        "    factorial_n = math.factorial(n)\n",
        "    return factorial_n\n",
        "\n",
        "print(factorial(4))\n",
        "print(factorial(5))\n",
        "print(factorial(6))"
      ],
      "metadata": {
        "id": "-HdkvvY9owo8",
        "colab": {
          "base_uri": "https://localhost:8080/"
        },
        "outputId": "7f37db46-d1f1-4916-a6d2-ed2247610a1f"
      },
      "execution_count": null,
      "outputs": [
        {
          "output_type": "stream",
          "name": "stdout",
          "text": [
            "24\n",
            "120\n",
            "720\n"
          ]
        }
      ]
    },
    {
      "cell_type": "markdown",
      "source": [
        "### 2. **Функция для проверки четности**  \n",
        "   Напишите функцию `is_even(n)`, которая принимает число `n` и возвращает `True`, если число четное, и `False` в противном случае."
      ],
      "metadata": {
        "id": "xEQgEhEKovb6"
      }
    },
    {
      "cell_type": "code",
      "source": [
        "def is_even(n):\n",
        "    \"\"\"\n",
        "    Функция для проверки четности.\n",
        "\n",
        "    Параметры:\n",
        "    n - числовое значение для преобразования.\n",
        "\n",
        "    Возвращает:\n",
        "    True - если число четное.\n",
        "    False - если число не четное.\n",
        "    \"\"\"\n",
        "    if n % 2 == 0:\n",
        "        return True\n",
        "    return False\n",
        "\n",
        "print(is_even(7))\n",
        "print(is_even(6))\n",
        "print(is_even(10))"
      ],
      "metadata": {
        "id": "Qbgw2_QLow--",
        "colab": {
          "base_uri": "https://localhost:8080/"
        },
        "outputId": "2a110232-a100-4005-afb8-5bad8fc722af"
      },
      "execution_count": null,
      "outputs": [
        {
          "output_type": "stream",
          "name": "stdout",
          "text": [
            "False\n",
            "True\n",
            "True\n"
          ]
        }
      ]
    },
    {
      "cell_type": "markdown",
      "source": [
        "### 3. **Функция с именованными аргументами**  \n",
        "   Напишите функцию `person_info(name, age, city=\"Москва\")`, которая принимает имя, возраст и город (по умолчанию \"Москва\"). Функция должна возвращать строку с информацией о человеке.  \n",
        "   \n",
        "   Пример:  \n",
        "```\n",
        "person_info(\"Иван\", 25) → \"Иван, 25 лет, из города Москва\"\n",
        "person_info(\"Мария\", 30, \"Санкт-Петербург\") → \"Мария, 30 лет, из города Санкт-Петербург\"\n",
        "```"
      ],
      "metadata": {
        "id": "-PWnY3LcouSk"
      }
    },
    {
      "cell_type": "code",
      "source": [
        "def person_info(name, age, city=\"Москва\"):\n",
        "    \"\"\"\n",
        "    Функция возращает строку с информацией о человеке.\n",
        "\n",
        "    Параметры:\n",
        "    name - Имя.\n",
        "    age - Возраст.\n",
        "    city - Город (по умолчанию стоит Москва).\n",
        "\n",
        "    Возвращает:\n",
        "    строку с подставленными значениями имени, возраста и города.\n",
        "    \"\"\"\n",
        "    return f\"{name}, {age} лет, из города {city}\"\n",
        "\n",
        "print(person_info(\"Иван\", 25))\n",
        "print(person_info(\"Мария\", 30, \"Санкт-Петербург\"))"
      ],
      "metadata": {
        "id": "8x-s4u8voxUR",
        "colab": {
          "base_uri": "https://localhost:8080/"
        },
        "outputId": "b4afe8e8-81da-4f7d-bd06-c1fe8a0d4a53"
      },
      "execution_count": null,
      "outputs": [
        {
          "output_type": "stream",
          "name": "stdout",
          "text": [
            "Иван, 25 лет, из города Москва\n",
            "Мария, 30 лет, из города Санкт-Петербург\n"
          ]
        }
      ]
    },
    {
      "cell_type": "markdown",
      "source": [
        "### 4. **Фильтрация четных чисел**  \n",
        "   Напишите функцию `filter_even(*args)`, которая принимает произвольное количество чисел и возвращает список только из четных чисел.  \n",
        "   Пример:  \n",
        "   ```\n",
        "   filter_even(1, 2, 3, 4, 5, 6) → [2, 4, 6]\n",
        "   filter_even(7, 9, 11) → []\n",
        "   ```"
      ],
      "metadata": {
        "id": "DxtROjY3osrS"
      }
    },
    {
      "cell_type": "code",
      "source": [
        "def filter_even(*args):\n",
        "    \"\"\"\n",
        "    Функция фильтрации четных чисел.\n",
        "\n",
        "    Параметры:\n",
        "    args - произвольное количество чисел для фильтрации.\n",
        "\n",
        "    Возвращает:\n",
        "    result - список, содержащий только четные числа.\n",
        "    \"\"\"\n",
        "    result = [i for i in args if i % 2 == 0]\n",
        "    return result\n",
        "\n",
        "print(filter_even(1, 2, 3, 4, 5, 6))\n",
        "print(filter_even(7, 9, 11))"
      ],
      "metadata": {
        "id": "CMROKo1Iox9C",
        "colab": {
          "base_uri": "https://localhost:8080/"
        },
        "outputId": "62005ec6-b5d6-4060-e299-b73895b64df8"
      },
      "execution_count": null,
      "outputs": [
        {
          "output_type": "stream",
          "name": "stdout",
          "text": [
            "[2, 4, 6]\n",
            "[]\n"
          ]
        }
      ]
    },
    {
      "cell_type": "markdown",
      "source": [
        "### 5. **Функция для вычисления статистики**  \n",
        "   Напишите функцию `calculate_stats(*args, **kwargs)`, которая:  \n",
        "   - Из позиционных аргументов вычисляет минимальное, максимальное и среднее значение.  \n",
        "   - Из именованных аргументов возвращает словарь, где ключи — это аргументы, а значения — их типы данных.  \n",
        "   Пример:  \n",
        "   ```\n",
        "   calculate_stats(1, 2, 3, 4, name=\"Иван\", age=25) → ((1, 4, 2.5), {\"name\": \"str\", \"age\": \"int\"})\n",
        "   ```"
      ],
      "metadata": {
        "id": "TPLTxuASorpB"
      }
    },
    {
      "cell_type": "code",
      "source": [
        "def calculate_stats(*args, **kwargs):\n",
        "    \"\"\"\n",
        "    Функция вычисляет статистику по позиционным аргументам и\n",
        "    определяет типы данных именованных аргументов.\n",
        "\n",
        "    Параметры:\n",
        "    args - числовые значения для анализа.\n",
        "    kwargs: именованные аргументы для определения типов\n",
        "\n",
        "    Возвращает:\n",
        "    Кортеж состоящий из: минимального, максимального и среднего значений.\n",
        "    Словарь с именами kwargs и строковым представлением их типов.\n",
        "    \"\"\"\n",
        "    min_value = min(args)\n",
        "    max_value = max(args)\n",
        "    average_value = sum(args)/len(args)\n",
        "\n",
        "    value_type_dict = {}\n",
        "    for key, value in kwargs.items():\n",
        "        value_type_dict[key] = type(value).__name__\n",
        "    return (min_value, max_value, average_value), value_type_dict\n",
        "\n",
        "print(calculate_stats(1, 2, 3, 4, name=\"Иван\", age=25))"
      ],
      "metadata": {
        "id": "F-1JYEoMoykp",
        "colab": {
          "base_uri": "https://localhost:8080/"
        },
        "outputId": "2a8d7841-f145-4de8-b4e7-50918d6f932e"
      },
      "execution_count": null,
      "outputs": [
        {
          "output_type": "stream",
          "name": "stdout",
          "text": [
            "((1, 4, 2.5), {'name': 'str', 'age': 'int'})\n"
          ]
        }
      ]
    },
    {
      "cell_type": "markdown",
      "source": [
        "## **Блок заданий №3. Работа с текстовыми файлами в Python**\n"
      ],
      "metadata": {
        "id": "ZwSzb-PToe-5"
      }
    },
    {
      "cell_type": "markdown",
      "source": [
        "### 1. **Запись в файл**  \n",
        "   Напишите программу, которая запрашивает у пользователя строку и записывает её в файл `output.txt`."
      ],
      "metadata": {
        "id": "NO_aT90DpDwS"
      }
    },
    {
      "cell_type": "code",
      "source": [
        "user_string = input(\"Введите текст для записи в файл: \")\n",
        "\n",
        "output_file = open('output.txt', mode='w', encoding='utf8')\n",
        "output_file.write(user_string)\n",
        "output_file.close()\n",
        "\n",
        "print(f\"Ваш текст сохранен в файл с именем {output_file.name}\")"
      ],
      "metadata": {
        "id": "CNGiLXnkpUfa",
        "colab": {
          "base_uri": "https://localhost:8080/"
        },
        "outputId": "2c02a460-48a2-444d-f16a-97f9a2cf5807"
      },
      "execution_count": 2,
      "outputs": [
        {
          "output_type": "stream",
          "name": "stdout",
          "text": [
            "Введите текст для записи в файл: Шла Саша по шоссе и сосала сушку\n",
            "Ваш текст сохранен в файл с именем output.txt\n"
          ]
        }
      ]
    },
    {
      "cell_type": "markdown",
      "source": [
        "### 2. **Чтение из файла**  \n",
        "   Напишите программу, которая открывает файл `output.txt` и выводит его содержимое на экран."
      ],
      "metadata": {
        "id": "fy_uuck5pE8B"
      }
    },
    {
      "cell_type": "code",
      "source": [
        "output_file = open('output.txt', encoding='utf8')\n",
        "print(output_file.read())\n",
        "output_file.close()"
      ],
      "metadata": {
        "id": "-9eB_a1rpUuA",
        "colab": {
          "base_uri": "https://localhost:8080/"
        },
        "outputId": "e19fb0f6-3390-443d-96ee-9d93e4d077e2"
      },
      "execution_count": 3,
      "outputs": [
        {
          "output_type": "stream",
          "name": "stdout",
          "text": [
            "Шла Саша по шоссе и сосала сушку\n"
          ]
        }
      ]
    },
    {
      "cell_type": "markdown",
      "source": [
        "### 3. **Подсчет строк в файле**  \n",
        "   Напишите программу, которая открывает файл `output.txt` и подсчитывает количество строк в нём."
      ],
      "metadata": {
        "id": "yaF0YWwYpF7a"
      }
    },
    {
      "cell_type": "code",
      "source": [
        "output_file = open('output.txt', encoding='utf8')\n",
        "output_file.seek(0)\n",
        "\n",
        "count_line = 0\n",
        "\n",
        "for _ in output_file.readlines():\n",
        "    count_line += 1\n",
        "\n",
        "\n",
        "print(f\"Количество строк в вашем файле: {count_line}\")\n",
        "\n",
        "output_file.close()"
      ],
      "metadata": {
        "id": "lZsdbitnpU8y",
        "colab": {
          "base_uri": "https://localhost:8080/"
        },
        "outputId": "b29204e0-5cff-44d5-ad60-f8563caa41ae"
      },
      "execution_count": 4,
      "outputs": [
        {
          "output_type": "stream",
          "name": "stdout",
          "text": [
            "Количество строк в вашем файле: 1\n"
          ]
        }
      ]
    },
    {
      "cell_type": "markdown",
      "source": [
        "### 4. **Копирование содержимого файла**  \n",
        "   Напишите программу, которая копирует содержимое файла `input.txt` в файл `output.txt`."
      ],
      "metadata": {
        "id": "Ps4aMC32pG3q"
      }
    },
    {
      "cell_type": "code",
      "source": [
        "# Тк у нас нет файла input.txt, создадим его и с помощью пользователя наполним\n",
        "input_file = open('input.txt', mode='w', encoding='utf8')\n",
        "user_text = input(\"Введите текст для файла input.txt: \")\n",
        "input_file.write(user_text)\n",
        "input_file.close()\n",
        "\n",
        "# Проверяем, что содержится в файле output.txt до копирования\n",
        "try:\n",
        "    output_file = open('output.txt', mode= 'r', encoding='utf8')\n",
        "    old_content = output_file.read()\n",
        "    print(\"Содержимое output.txt:\")\n",
        "except FileNotFoundError:\n",
        "    print(\"Файл output.txt не найден. Будет создан при копировании.\")\n",
        "    old_content = None\n",
        "finally:\n",
        "    print(repr(old_content))\n",
        "    output_file.close()\n",
        "\n",
        "# Копируем содержимое файла input.txt в output.txt\n",
        "input_file = open('input.txt', mode='r', encoding='utf8')\n",
        "new_content = input_file.read()\n",
        "output_file = open('output.txt', mode= 'w', encoding='utf8')\n",
        "output_file.write(new_content)\n",
        "input_file.close()\n",
        "output_file.close()\n",
        "\n",
        "# Проверим, что все записалось и упешно сохранилось\n",
        "print(\"Обновленное содержимое файла output.txt:\")\n",
        "output_file = open('output.txt', mode= 'r', encoding='utf8')\n",
        "print(output_file.read())\n",
        "output_file.close()"
      ],
      "metadata": {
        "id": "x2LuA9ZwpVPz",
        "colab": {
          "base_uri": "https://localhost:8080/"
        },
        "outputId": "b8b79973-94ab-4e7c-f4c2-46d5af53d449"
      },
      "execution_count": 5,
      "outputs": [
        {
          "output_type": "stream",
          "name": "stdout",
          "text": [
            "Введите текст для файла input.txt: шла Маша по шоссе и сосала сушку\n",
            "Содержимое output.txt:\n",
            "'Шла Саша по шоссе и сосала сушку'\n",
            "Обновленное содержимое файла output.txt:\n",
            "шла Маша по шоссе и сосала сушку\n"
          ]
        }
      ]
    },
    {
      "cell_type": "markdown",
      "source": [
        "### 5. **Поиск слова в файле**  \n",
        "   Напишите программу, которая открывает файл `output.txt` и проверяет, содержится ли в нём слово, введённое пользователем."
      ],
      "metadata": {
        "id": "lWGe5Xj4oIn-"
      }
    },
    {
      "cell_type": "code",
      "source": [
        "user_word = input(\"Введите слово для проверки: \")\n",
        "\n",
        "try:\n",
        "    with open('output.txt', 'r', encoding='utf-8') as file:\n",
        "        content = file.read()\n",
        "\n",
        "    content_lower = content.lower()\n",
        "    user_word_lower = user_word.lower()\n",
        "\n",
        "    if user_word_lower in content_lower:\n",
        "        print(f\"Слово '{user_word}' НАЙДЕНО в файле output.txt.\")\n",
        "    else:\n",
        "        print(f\"Слово '{user_word}' НЕ НАЙДЕНО в файле output.txt.\")\n",
        "\n",
        "except FileNotFoundError:\n",
        "    print(\"Файл output.txt не найден. Убедитесь, что он существует в этой папке.\")\n",
        "except Exception as e:\n",
        "    print(f\"Произошла ошибка при работе с файлом: {e}\")"
      ],
      "metadata": {
        "id": "dqPsCHK2pVha",
        "colab": {
          "base_uri": "https://localhost:8080/"
        },
        "outputId": "218ee9b6-293a-4d6f-f708-23802322002b"
      },
      "execution_count": 6,
      "outputs": [
        {
          "output_type": "stream",
          "name": "stdout",
          "text": [
            "Введите слово для проверки: сушку\n",
            "Слово 'сушку' НАЙДЕНО в файле output.txt.\n"
          ]
        }
      ]
    },
    {
      "cell_type": "markdown",
      "source": [
        "## **Блок заданий №4. Обработка исключений в Python (try, except, else, finally)**\n"
      ],
      "metadata": {
        "id": "1kJHV5F1o2W-"
      }
    },
    {
      "cell_type": "markdown",
      "source": [
        "### 1. **Чтение файла с обработкой FileNotFoundError**  \n",
        "   Напишите программу, которая запрашивает у пользователя имя (или путь к) файла и пытается открыть его. Если файла не существует, перехватите FileNotFoundError и выведите сообщение «Файл не найден!».\n",
        "\n",
        "\n",
        "\n",
        "\n",
        "\n",
        "\n",
        "\n"
      ],
      "metadata": {
        "id": "EpLMWWsYog9c"
      }
    },
    {
      "cell_type": "code",
      "source": [
        "file_name = input(\"Введите имя файла или путь к нему (например: output.txt или docs/input.txt): \")\n",
        "try:\n",
        "    with open(file_name, 'r', encoding='utf-8') as file:\n",
        "        content = file.read()\n",
        "        print(f\"Содержимое файла {file_name}: {content}\")\n",
        "except FileNotFoundError:\n",
        "    print(\"Файл не найден!\")"
      ],
      "metadata": {
        "id": "pdSXLhuAo9wL",
        "colab": {
          "base_uri": "https://localhost:8080/"
        },
        "outputId": "bab38c81-e9dc-4805-b96d-5df3e74682b4"
      },
      "execution_count": 11,
      "outputs": [
        {
          "output_type": "stream",
          "name": "stdout",
          "text": [
            "Введите имя файла или путь к нему (например: output.txt или docs/input.txt): output.txt\n",
            "Содержимое файла output.txt: шла Маша по шоссе и сосала сушку\n"
          ]
        }
      ]
    },
    {
      "cell_type": "markdown",
      "source": [
        "### 2. **Простейший калькулятор с обработкой нескольких исключений**  \n",
        "   Напишите программу, которая спрашивает у пользователя два числа и операцию (+, -, *, /). При попытках сложения или вычитания некорректных значений перехватывайте ValueError, а при делении на ноль — ZeroDivisionError, выводя соответствующие сообщения.\n"
      ],
      "metadata": {
        "id": "_1KEOBCho7wv"
      }
    },
    {
      "cell_type": "code",
      "source": [
        "number_a = input(\"Введите первое число: \")\n",
        "number_b = input(\"Введите второе число: \")\n",
        "operand = input(\"Введите операцию (+, -, *, /): \")\n",
        "\n",
        "try:\n",
        "    number_a = int(number_a)\n",
        "    number_b = int(number_b)\n",
        "    if operand == '+':\n",
        "        result = number_a + number_b\n",
        "    elif operand == '-':\n",
        "        result = number_a - number_b\n",
        "    elif operand == '*':\n",
        "        result = number_a * number_b\n",
        "    elif operand == '/':\n",
        "        result = number_a / number_b\n",
        "except ZeroDivisionError:\n",
        "    print(\"Ошибка: Деление на ноль!\")\n",
        "except ValueError:\n",
        "    print(\"Ошибка: Введите корректное число!\")\n",
        "else:\n",
        "    print(f\"{number_a} {operand} {number_b} = {result}\")"
      ],
      "metadata": {
        "id": "WPcrPlXWo-bz",
        "colab": {
          "base_uri": "https://localhost:8080/"
        },
        "outputId": "6e6b6f1d-e6ab-4f22-dd11-052d69617acf"
      },
      "execution_count": 17,
      "outputs": [
        {
          "output_type": "stream",
          "name": "stdout",
          "text": [
            "Введите первое число: h\n",
            "Введите второе число: 7\n",
            "Введите операцию (+, -, *, /): *\n",
            "Ошибка: Введите корректное число!\n"
          ]
        }
      ]
    },
    {
      "cell_type": "markdown",
      "source": [
        "### 3. **Обработка некорректного индекса (IndexError)**  \n",
        "   Создайте список из нескольких элементов (например, [10, 20, 30]). Попросите пользователя ввести индекс элемента, который нужно вывести. Если пользователь введёт индекс, выходящий за границы списка, перехватите IndexError и сообщите об этом в консоли в свободной форме."
      ],
      "metadata": {
        "id": "I-0e0lcio6tK"
      }
    },
    {
      "cell_type": "code",
      "source": [
        "my_list = [10, 20, 30, 40, 50]\n",
        "index = input(\"Введите индекс числа, которое нужно вывести: \")\n",
        "\n",
        "try:\n",
        "    index = int(index)\n",
        "    print(f\"Число под индексом {index}: {my_list[index]}\")\n",
        "except ValueError:\n",
        "    print(\"Ошибка: Введите индекс в виде числа!\")\n",
        "except IndexError:\n",
        "    print(\"Ошибка: Введенный вами индекс выходит за рамки списка!\")"
      ],
      "metadata": {
        "id": "8XSXyscqo-2U",
        "colab": {
          "base_uri": "https://localhost:8080/"
        },
        "outputId": "5260dabc-f693-46f7-8309-5d71c2dad529"
      },
      "execution_count": 20,
      "outputs": [
        {
          "output_type": "stream",
          "name": "stdout",
          "text": [
            "Введите индекс числа, которое нужно вывести: 4\n",
            "Число под индексом 4: 50\n"
          ]
        }
      ]
    },
    {
      "cell_type": "markdown",
      "source": [
        "### 4. **Чтение и запись в файл с обработкой ошибок**  \n",
        "  Напишите программу, которая:  \n",
        "  - Запрашивает у пользователя имя файла.  \n",
        "  - Если файл существует, программа читает его содержимое и выводит на экран.  \n",
        "  - Если файл не существует, программа создает его и записывает в него строку `\"Файл был создан\"`.  \n",
        "  Используйте обработку исключений.\n",
        "\n",
        "  Пример:  \n",
        "    ```\n",
        "    Введите имя файла: data.txt  \n",
        "    Файл не найден. Создан новый файл.\n",
        "    ```"
      ],
      "metadata": {
        "id": "OeQvEFV9o5My"
      }
    },
    {
      "cell_type": "code",
      "source": [
        "file_name  = input(\"Введите имя файла: \")\n",
        "\n",
        "if not file_name:\n",
        "    print(\"Имя файла не может быть пустым.\")\n",
        "else:\n",
        "    try:\n",
        "        with open(file_name, 'r', encoding='utf-8') as file:\n",
        "            content = file.read()\n",
        "            print(f\"Содержимое файла '{file_name}':\\n {content}\")\n",
        "\n",
        "    except FileNotFoundError:\n",
        "        with open(file_name, 'w', encoding='utf-8') as file:\n",
        "            file.write(\"Файл был создан\")\n",
        "        print(f\"Файл не найден. Создан новый файл '{file_name}' с текстом: 'Файл был создан'\")\n",
        "    except PermissionError:\n",
        "        print(f\"Нет прав на доступ к файлу '{file_name}'.\")\n",
        "    except Exception as e:\n",
        "        print(f\"Произошла ошибка: {e}\")"
      ],
      "metadata": {
        "id": "ttNZVIbQo_LV",
        "colab": {
          "base_uri": "https://localhost:8080/"
        },
        "outputId": "b4ad2a6b-bb57-4f6d-fa6f-c2e796d34c28"
      },
      "execution_count": 21,
      "outputs": [
        {
          "output_type": "stream",
          "name": "stdout",
          "text": [
            "Введите имя файла: data.txt\n",
            "Файл не найден. Создан новый файл 'data.txt' с текстом: 'Файл был создан'\n"
          ]
        }
      ]
    },
    {
      "cell_type": "markdown",
      "source": [
        "\n",
        "### 5. **Обработка исключений в цикле**  \n",
        "  Напишите программу, которая запрашивает у пользователя числа и добавляет их в список.  \n",
        "  - Если пользователь вводит некорректные данные, программа должна выводить сообщение об ошибке и продолжать работу.  \n",
        "  - Для выхода из программы пользователь должен ввести `\"стоп\"`.\n",
        "\n",
        "  Пример:  \n",
        "    ```\n",
        "    Введите число: 10  \n",
        "    Введите число: текст  \n",
        "    Ошибка: это не число.  \n",
        "    Введите число: стоп  \n",
        "    Итоговый список: [10]\n",
        "    ```"
      ],
      "metadata": {
        "id": "-XGCqB2zo4G_"
      }
    },
    {
      "cell_type": "code",
      "source": [
        "my_list = []\n",
        "stop = \"стоп\"\n",
        "\n",
        "user_input = input(\"Введите число: \")\n",
        "\n",
        "while user_input.lower() != stop:\n",
        "    try:\n",
        "        number = int(user_input)\n",
        "        my_list.append(number)\n",
        "    except ValueError:\n",
        "        print(\"Ошибка: Это не число!\")\n",
        "    except Exception as e:\n",
        "        print(f\"Произошла ошибка: {e}\")\n",
        "    user_input = input(\"Введите число (или 'стоп' для завершения): \")\n",
        "\n",
        "print(f\"Итоговый список: [{my_list}]\")"
      ],
      "metadata": {
        "id": "93pustD1o_hy",
        "colab": {
          "base_uri": "https://localhost:8080/"
        },
        "outputId": "6640de65-421b-41b2-d96b-5272e12408ef"
      },
      "execution_count": 25,
      "outputs": [
        {
          "output_type": "stream",
          "name": "stdout",
          "text": [
            "Введите число: 4\n",
            "Введите число (или 'стоп' для завершения): 34\n",
            "Введите число (или 'стоп' для завершения): 56\n",
            "Введите число (или 'стоп' для завершения): 5\n",
            "Введите число (или 'стоп' для завершения): hhh\n",
            "Ошибка: Это не число!\n",
            "Введите число (или 'стоп' для завершения): 5\n",
            "Введите число (или 'стоп' для завершения): Стоп\n",
            "Итоговый список: [[4, 34, 56, 5, 5]]\n"
          ]
        }
      ]
    }
  ]
}