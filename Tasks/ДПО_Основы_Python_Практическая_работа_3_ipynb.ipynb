{
  "nbformat": 4,
  "nbformat_minor": 0,
  "metadata": {
    "colab": {
      "provenance": [],
      "include_colab_link": true
    },
    "kernelspec": {
      "name": "python3",
      "display_name": "Python 3"
    },
    "language_info": {
      "name": "python"
    }
  },
  "cells": [
    {
      "cell_type": "markdown",
      "metadata": {
        "id": "view-in-github",
        "colab_type": "text"
      },
      "source": [
        "<a href=\"https://colab.research.google.com/github/Olya-Shulga/Univercity/blob/main/Tasks/%D0%94%D0%9F%D0%9E_%D0%9E%D1%81%D0%BD%D0%BE%D0%B2%D1%8B_Python_%D0%9F%D1%80%D0%B0%D0%BA%D1%82%D0%B8%D1%87%D0%B5%D1%81%D0%BA%D0%B0%D1%8F_%D1%80%D0%B0%D0%B1%D0%BE%D1%82%D0%B0_3_ipynb.ipynb\" target=\"_parent\"><img src=\"https://colab.research.google.com/assets/colab-badge.svg\" alt=\"Open In Colab\"/></a>"
      ]
    },
    {
      "cell_type": "markdown",
      "source": [
        "# **Практическая работа №3. Введение в Python. Модули и пакеты**\n",
        "\n",
        "---\n",
        "\n",
        "\n"
      ],
      "metadata": {
        "id": "QliphIp1pbse"
      }
    },
    {
      "cell_type": "markdown",
      "source": [
        "**Обучающийся:** *[Шульга Ольга Петровна]*  "
      ],
      "metadata": {
        "id": "tTK8mNGDqA8Z"
      }
    },
    {
      "cell_type": "markdown",
      "source": [
        "\n",
        "\n",
        "---"
      ],
      "metadata": {
        "id": "wTJjWD61p_dZ"
      }
    },
    {
      "cell_type": "markdown",
      "source": [
        "## **Цель работы:**\n"
      ],
      "metadata": {
        "id": "8sycqVegUH85"
      }
    },
    {
      "cell_type": "markdown",
      "source": [
        "Создать Python-пакет, включающий функции для преобразования координат между декартовой и сферической системами, а также для работы с файлами. Реализовать консольный интерфейс для взаимодействия с функциями пакета."
      ],
      "metadata": {
        "id": "bdHCMBx4UJTb"
      }
    },
    {
      "cell_type": "markdown",
      "source": [
        "## **Задачи:**\n"
      ],
      "metadata": {
        "id": "aziouLamURhA"
      }
    },
    {
      "cell_type": "markdown",
      "source": [
        "1. Создать структуру пакета с необходимыми модулями.\n",
        "2. Реализовать функции для преобразования координат.\n",
        "3. Реализовать функции для работы с файлами.\n",
        "4. Создать файл `__main__.py` с консольным интерфейсом для работы с пакетом.\n",
        "5. Проверить работоспособность пакета на примере."
      ],
      "metadata": {
        "id": "ZyNB5M23US9G"
      }
    },
    {
      "cell_type": "markdown",
      "source": [
        "## **Теоретическая часть:**"
      ],
      "metadata": {
        "id": "AoEP4riFYmrE"
      }
    },
    {
      "cell_type": "markdown",
      "source": [
        "1. **Преобразование декартовых координат в сферические:**\n",
        "\n",
        "   *Формулы для преобразования:*\n",
        "\n",
        "   $\n",
        "   r = \\sqrt{x^2 + y^2 + z^2}\n",
        "   $\n",
        "\n",
        "   - Эта формула вычисляет радиус $r$ от начала координат до точки с координатами $(x, y, z)$ в декартовой системе. Это расстояние в пространстве.\n",
        "\n",
        "   $\n",
        "   \\theta = 2 \\cdot \\text{atan2}(y, x + \\sqrt{x^2 + y^2})\n",
        "   $\n",
        "\n",
        "   - Формула для $\\theta$ (азимутальный угол) использует функцию $\\text{atan2}$, которая возвращает угол в радианах между положительной осью $x$ и точкой $(x, y)$. Умножение на 2 и добавление $\\sqrt{x^2 + y^2}$ в знаменатель обеспечивает корректное определение угла в диапазоне от 0 до $2\\pi$.\n",
        "\n",
        "   $\n",
        "   \\phi = \\text{atan2}(\\sqrt{x^2 + y^2}, z)\n",
        "   $\n",
        "\n",
        "   - Формула для $\\phi$ (полярный угол) также использует $\\text{atan2}$, но здесь она вычисляет угол между положительной осью $z$ и вектором от начала координат до точки. Это значение также получается в радианах.\n",
        "\n",
        "   **Значения $\\theta$ и $\\phi$ получаются в радианах. Для перевода их в градусы необходимо умножить на $\\frac{180}{\\pi}$.**\n",
        "\n",
        "\n",
        "\n"
      ],
      "metadata": {
        "id": "pEAfpUD_UYNL"
      }
    },
    {
      "cell_type": "markdown",
      "source": [
        "2. **Преобразование сферических координат в декартовые:**\n",
        "\n",
        "  *Формулы для преобразования:*\n",
        "\n",
        "   $\n",
        "   x = r \\cdot \\sin(\\phi) \\cdot \\cos(\\theta)\n",
        "   $\n",
        "   \n",
        "   - Эта формула вычисляет координату $x$ в декартовой системе, используя радиус $r$, полярный угол $\\phi$ и азимутальный угол $\\theta$.\n",
        "\n",
        "   $\n",
        "   y = r \\cdot \\sin(\\phi) \\cdot \\sin(\\theta)\n",
        "   $\n",
        "\n",
        "   - Аналогично, эта формула вычисляет координату $y$ в декартовой системе.\n",
        "\n",
        "   $\n",
        "   z = r \\cdot \\cos(\\phi)\n",
        "   $\n",
        "   \n",
        "   - Эта формула вычисляет координату $z$ в декартовой системе, используя радиус $r$ и полярный угол $\\phi$.\n",
        "\n",
        "   **Значения $\\theta$ и $\\phi$ должны быть заданы в радианах. Если они заданы в градусах, их необходимо предварительно перевести в радианы, умножив на $\\frac{\\pi}{180}$.**"
      ],
      "metadata": {
        "id": "PNgijVwBZQxC"
      }
    },
    {
      "cell_type": "markdown",
      "source": [
        "3. **Преобразование между градусами и радианами:**\n",
        "\n",
        "   $\n",
        "   \\text{градусы} \\rightarrow \\text{радианы}: \\text{degrees} \\cdot \\frac{\\pi}{180}\n",
        "   $\n",
        "   - Эта формула используется для перевода углов из градусов в радианы.\n",
        "\n",
        "   $\n",
        "   \\text{радианы} \\rightarrow \\text{градусы}: \\text{radians} \\cdot \\frac{180}{\\pi}\n",
        "   $\n",
        "   - Эта формула используется для перевода углов из радиан в градусы."
      ],
      "metadata": {
        "id": "km-P3kvIZOo9"
      }
    },
    {
      "cell_type": "code",
      "source": [
        "import math\n",
        "\n",
        "# Пример расчета синуса и косинуса от угла в градусах\n",
        "angle_degrees = 45  # Угол в градусах\n",
        "\n",
        "# Преобразование градусов в радианы\n",
        "angle_radians = math.radians(angle_degrees)\n",
        "\n",
        "# Расчет синуса и косинуса\n",
        "sin_value = math.sin(angle_radians)\n",
        "cos_value = math.cos(angle_radians)\n",
        "\n",
        "print(f\"Синус {angle_degrees} градусов: {sin_value}\")\n",
        "print(f\"Косинус {angle_degrees} градусов: {cos_value}\")"
      ],
      "metadata": {
        "colab": {
          "base_uri": "https://localhost:8080/"
        },
        "id": "UbLbordBWolF",
        "outputId": "375e5e96-02fc-42e5-cd01-4534c65429b8"
      },
      "execution_count": null,
      "outputs": [
        {
          "output_type": "stream",
          "name": "stdout",
          "text": [
            "Синус 45 градусов: 0.7071067811865475\n",
            "Косинус 45 градусов: 0.7071067811865476\n"
          ]
        }
      ]
    },
    {
      "cell_type": "code",
      "source": [
        "# Пример расчета atan2 и преобразования результата в градусы\n",
        "y = 1\n",
        "x = 5\n",
        "\n",
        "# Расчет atan2 в радианах\n",
        "atan2_radians = math.atan2(y, x)\n",
        "\n",
        "# Преобразование результата atan2 в градусы\n",
        "atan2_degrees = math.degrees(atan2_radians)\n",
        "\n",
        "print(f\"atan2({y}, {x}) в радианах: {atan2_radians}\")\n",
        "print(f\"atan2({y}, {x}) в градусах: {atan2_degrees}\")"
      ],
      "metadata": {
        "colab": {
          "base_uri": "https://localhost:8080/"
        },
        "id": "r6gfmCU2XN-j",
        "outputId": "9561f326-c331-48f4-f89d-7a3316521615"
      },
      "execution_count": null,
      "outputs": [
        {
          "output_type": "stream",
          "name": "stdout",
          "text": [
            "atan2(1, 5) в радианах: 0.19739555984988075\n",
            "atan2(1, 5) в градусах: 11.309932474020213\n"
          ]
        }
      ]
    },
    {
      "cell_type": "markdown",
      "source": [
        "\n",
        "\n",
        "## **Практическая часть:**\n",
        "\n"
      ],
      "metadata": {
        "id": "xjcf5dryT4q6"
      }
    },
    {
      "cell_type": "markdown",
      "source": [
        "1. **Создание структуры пакета:**\n",
        "   Создайте директорию `geo_transform` и в ней следующие файлы:\n",
        "   - `__init__.py`\n",
        "   - `transformations.py`\n",
        "   - `utils.py`\n",
        "   - `file_operations.py`\n",
        "   - `__main__.py`\n",
        "\n",
        "2. **Реализация функций преобразования координат:**\n",
        "   В файле `transformations.py` реализуйте функции `cartesian_to_spherical` и `spherical_to_cartesian` с использованием приведенных выше формул.\n",
        "\n",
        "3. **Реализация вспомогательных функций:**\n",
        "   В файле `utils.py` реализуйте функции `deg_to_rad` и `rad_to_deg`.\n",
        "\n",
        "4. **Реализация функций для работы с файлами:**\n",
        "   В файле `file_operations.py` реализуйте функции `write_results_to_file` и `read_coordinates_from_file` для записи и чтения координат из текстовых файлов.\n",
        "\n",
        "5. **Создание `__init__.py`:**\n",
        "   В файле `__init__.py` добавьте импорты всех необходимых функций из других модулей.\n",
        "\n",
        "6. **Реализация консольного интерфейса в `__main__.py`:**\n",
        "   В файле `__main__.py` реализуйте консольный интерфейс для работы с функциями пакета.\n",
        "\n",
        "7. **Проверка работоспособности пакета:**\n",
        "   Запустите пакет как отдельную программу. Проверьте все функции через консольный интерфейс. Импортируйте пакет в стороннем модуле, убедитесь, что все функции работают корректно."
      ],
      "metadata": {
        "id": "3DlYz5qrVG-C"
      }
    },
    {
      "cell_type": "markdown",
      "source": [
        "\n",
        "\n",
        "## **Демонстрация результата:**\n",
        "\n"
      ],
      "metadata": {
        "id": "iIyfPBIGbPdQ"
      }
    },
    {
      "cell_type": "markdown",
      "source": [],
      "metadata": {
        "id": "7NcWgqLPxXMT"
      }
    },
    {
      "cell_type": "markdown",
      "source": [
        "Вставьте код каждого из ваших модулей в соответствующие ячейки ниже.\n",
        "\n",
        "**Строку, начинающуюся на %%writefile... стирать запрещено**"
      ],
      "metadata": {
        "id": "1ARiSwg3bKML"
      }
    },
    {
      "cell_type": "markdown",
      "source": [
        "### **Содержимое модуля \\_\\_init__.py:**"
      ],
      "metadata": {
        "id": "kcPKYl5abzNp"
      }
    },
    {
      "cell_type": "code",
      "source": [
        "!mkdir geo_transform"
      ],
      "metadata": {
        "id": "T5t41w-tbD5I"
      },
      "execution_count": 3,
      "outputs": []
    },
    {
      "cell_type": "code",
      "source": [
        "%%writefile geo_transform/__init__.py\n",
        "\n",
        "from .file_operations import write_results_to_file, read_coordinates_from_file\n",
        "from .transformations import cartesian_to_spherical, spherical_to_cartesian\n",
        "from .utils import deg_to_rad, rad_to_deg"
      ],
      "metadata": {
        "id": "p_UraYekagmv",
        "colab": {
          "base_uri": "https://localhost:8080/"
        },
        "outputId": "1b0beaae-fde2-4e94-ad8c-f06c13139ab6"
      },
      "execution_count": 7,
      "outputs": [
        {
          "output_type": "stream",
          "name": "stdout",
          "text": [
            "Writing geo_transform/__init__.py\n"
          ]
        }
      ]
    },
    {
      "cell_type": "markdown",
      "source": [
        "### **Содержимое модуля transformations.py:**"
      ],
      "metadata": {
        "id": "GfgJWdI7cHoW"
      }
    },
    {
      "cell_type": "code",
      "source": [
        "%%writefile geo_transform/transformations.py\n",
        "\n",
        "import math\n",
        "from .utils import rad_to_deg, deg_to_rad\n",
        "\n",
        "def cartesian_to_spherical(x, y, z):\n",
        "    \"\"\"\n",
        "    Преобразует декартовы координаты (x, y, z) в сферические (r, theta, phi).\n",
        "    Возвращает углы в радианах.\n",
        "    \"\"\"\n",
        "    r = math.sqrt(x**2 + y**2 + z**2)\n",
        "    if r == 0:\n",
        "        return (0.0, 0.0, 0.0)\n",
        "\n",
        "    square_root = math.sqrt(x**2 + y**2)\n",
        "    theta = 2 * math.atan2(y, x + square_root)\n",
        "\n",
        "    phi = math.atan2(square_root, z)\n",
        "\n",
        "    return (r, theta, phi)\n",
        "\n",
        "def spherical_to_cartesian(r, theta, phi):\n",
        "    \"\"\"\n",
        "    Преобразует сферические координаты (r, theta, phi) в декартовы (x, y, z).\n",
        "    Углы theta и phi должны быть в радианах.\n",
        "    \"\"\"\n",
        "    x = r * math.sin(phi) * math.cos(theta)\n",
        "    y = r * math.sin(phi) * math.sin(theta)\n",
        "    z = r * math.cos(phi)\n",
        "    return (x, y, z)\n",
        "\n",
        "__all__ = ['cartesian_to_spherical', 'spherical_to_cartesian']"
      ],
      "metadata": {
        "id": "PEwM6HmucHoX",
        "colab": {
          "base_uri": "https://localhost:8080/"
        },
        "outputId": "44ce9192-e7b4-4272-851d-3924314551d4"
      },
      "execution_count": 4,
      "outputs": [
        {
          "output_type": "stream",
          "name": "stdout",
          "text": [
            "Writing geo_transform/transformations.py\n"
          ]
        }
      ]
    },
    {
      "cell_type": "markdown",
      "source": [
        "### **Содержимое модуля utils.py:**"
      ],
      "metadata": {
        "id": "tw_9FXFkcIBq"
      }
    },
    {
      "cell_type": "code",
      "source": [
        "%%writefile geo_transform/utils.py\n",
        "\n",
        "import math\n",
        "\n",
        "def deg_to_rad(degrees):\n",
        "    \"\"\"Функция для перевода из градусов в радианы\"\"\"\n",
        "    return degrees * math.pi / 180.0\n",
        "\n",
        "def rad_to_deg(radians):\n",
        "    \"\"\"Функция для перевода из радиан в градусы\"\"\"\n",
        "    return radians * 180.0 / math.pi\n",
        "\n",
        "__all__ = ['deg_to_rad', 'rad_to_deg']"
      ],
      "metadata": {
        "id": "y96uQcmTcIBr",
        "colab": {
          "base_uri": "https://localhost:8080/"
        },
        "outputId": "9b65ca38-de9f-4a3f-e04e-7794b334f12e"
      },
      "execution_count": 5,
      "outputs": [
        {
          "output_type": "stream",
          "name": "stdout",
          "text": [
            "Writing geo_transform/utils.py\n"
          ]
        }
      ]
    },
    {
      "cell_type": "markdown",
      "source": [
        "### **Содержимое модуля file_operations.py:**"
      ],
      "metadata": {
        "id": "kmYf0AOwcIOg"
      }
    },
    {
      "cell_type": "code",
      "source": [
        "%%writefile geo_transform/file_operations.py\n",
        "\n",
        "def read_coordinates_from_file(filename):\n",
        "    \"\"\"\n",
        "    Читает координаты из текстового файла.\n",
        "    Каждая строка: числа, разделённые пробелами.\n",
        "    Возвращает список кортежей float.\n",
        "    \"\"\"\n",
        "    coordinates = []\n",
        "    try:\n",
        "        with open(filename.replace('\\\\', '/'), 'r', encoding='utf-8') as f:\n",
        "            for line in f:\n",
        "                line = line.strip()\n",
        "                if line and not line.startswith('#'): # не обращать внимания на строки комментарии\n",
        "                    coords = tuple(map(float, line.split()))\n",
        "                    if len(coords) in (3,):  # добавляем только по 3 числа\n",
        "                        coordinates.append(coords)\n",
        "    except FileNotFoundError:\n",
        "        print(f\"Файл {filename} не найден.\")\n",
        "    except ValueError as e:\n",
        "        print(f\"Ошибка в формате данных: {e}\")\n",
        "    return coordinates\n",
        "\n",
        "\n",
        "def write_results_to_file(filename, data):\n",
        "    \"\"\"\n",
        "    Записывает список кортежей в файл.\n",
        "    Каждый кортеж — одна строка, числа через пробел.\n",
        "    \"\"\"\n",
        "    with open(filename, 'w', encoding='utf-8') as f:\n",
        "        for item in data:\n",
        "            f.write(' '.join(map(str, item)) + '\\n')\n",
        "    print(f\"Результаты записаны в файл: {filename}\")\n",
        "\n",
        "\n",
        "__all__ = ['write_results_to_file', 'read_coordinates_from_file']"
      ],
      "metadata": {
        "id": "HkmXurkjcIOg",
        "colab": {
          "base_uri": "https://localhost:8080/"
        },
        "outputId": "b297ee09-7c90-46fb-8c8c-8a042853f855"
      },
      "execution_count": 6,
      "outputs": [
        {
          "output_type": "stream",
          "name": "stdout",
          "text": [
            "Writing geo_transform/file_operations.py\n"
          ]
        }
      ]
    },
    {
      "cell_type": "markdown",
      "source": [
        "### **Содержимое модуля \\_\\_main__.py:**"
      ],
      "metadata": {
        "id": "qUQb0g_RcaUd"
      }
    },
    {
      "cell_type": "code",
      "source": [
        "%%writefile geo_transform/__main__.py\n",
        "\n",
        "from .file_operations import write_results_to_file, read_coordinates_from_file\n",
        "from .transformations import cartesian_to_spherical, spherical_to_cartesian\n",
        "from .utils import deg_to_rad, rad_to_deg\n",
        "\n",
        "\n",
        "def main():\n",
        "    print(\"=== Пакет geo_transform: преобразование координат ===\")\n",
        "    while True:\n",
        "        print(\"\\nВыберите действие:\")\n",
        "        print(\"1. Декартовы -> Сферические\")\n",
        "        print(\"2. Сферические -> Декартовы\")\n",
        "        print(\"3. Преобразовать координаты из файла\")\n",
        "        print(\"4. Выход\")\n",
        "\n",
        "        choice = input(\"Ваш выбор: \").strip()\n",
        "\n",
        "        if choice == '1':\n",
        "            try:\n",
        "                x = float(input(\"Введите координату x: \"))\n",
        "                y = float(input(\"Введите координату y: \"))\n",
        "                z = float(input(\"Введите координату z: \"))\n",
        "                r, theta, phi = cartesian_to_spherical(x, y, z)\n",
        "                theta_deg = rad_to_deg(theta)\n",
        "                phi_deg = rad_to_deg(phi)\n",
        "                print(f\"\\nРезультат (сферические, радианы): r={r}, θ={theta}, φ={phi}\")\n",
        "                print(f\"Результат (сферические, градусы): r={r}, θ={theta_deg} градусов, φ={phi_deg} градусов\")\n",
        "            except ValueError:\n",
        "                print(\"Ошибка: введите корректные числа.\")\n",
        "\n",
        "        elif choice == '2':\n",
        "            try:\n",
        "                r = float(input(\"Введите r: \"))\n",
        "                theta_deg = float(input(\"Введите θ (азимут) в градусах: \"))\n",
        "                phi_deg = float(input(\"Введите φ (полярный угол) в градусах: \"))\n",
        "                theta = deg_to_rad(theta_deg)\n",
        "                phi = deg_to_rad(phi_deg)\n",
        "                x, y, z = spherical_to_cartesian(r, theta, phi)\n",
        "                print(f\"\\nРезультат (декартовы): x={x}, y={y}, z={z}\")\n",
        "            except ValueError:\n",
        "                print(\"Ошибка: введите корректные числа.\")\n",
        "\n",
        "        elif choice == '3':\n",
        "            try:\n",
        "                filename = input(\"Введите имя файла с координатами: \").strip()\n",
        "                coords = read_coordinates_from_file(filename)\n",
        "                if not coords:\n",
        "                    print(\"Нет данных для обработки.\")\n",
        "                    continue\n",
        "\n",
        "                print(\"Какой тип координат в файле?\")\n",
        "                print(\"1. Декартовы (x y z)\")\n",
        "                print(\"2. Сферические (r theta phi)\")\n",
        "                coord_type = input(\"Ваш выбор: \").strip()\n",
        "\n",
        "                result = []\n",
        "                if coord_type == '1':\n",
        "                    for (x, y, z) in coords:\n",
        "                        r, theta, phi = cartesian_to_spherical(x, y, z)\n",
        "                        result.append((r, rad_to_deg(theta), rad_to_deg(phi)))\n",
        "                    print(\"Преобразовано: декартовы -> сферические (в градусах)\")\n",
        "                elif coord_type == '2':\n",
        "                    for (r, theta_deg, phi_deg) in coords:\n",
        "                        x, y, z = spherical_to_cartesian(r, theta, phi)\n",
        "                        result.append((x, y, z))\n",
        "                    print(\"Преобразовано: сферические -> декартовы\")\n",
        "\n",
        "                out_file = input(\"введите название файла, в которой будет сохранен результат(оставьте пустым для пропуска): \").strip()\n",
        "                if out_file:\n",
        "                    write_results_to_file(out_file, result)\n",
        "                else:\n",
        "                    for i, res in enumerate(result, 1):\n",
        "                        print(f\"{i}: {res}\")\n",
        "            except FileNotFoundError:\n",
        "                print(f\"Файл {filename} не найден.\")\n",
        "            except ValueError as e:\n",
        "                print(f\"Ошибка: {e}\")\n",
        "\n",
        "        elif choice == '4':\n",
        "            print(\"Выход.\")\n",
        "            break\n",
        "\n",
        "        else:\n",
        "            print(\"Неверный выбор. Попробуйте снова.\")\n",
        "\n",
        "if __name__ == \"__main__\":\n",
        "    main()"
      ],
      "metadata": {
        "id": "qzNV09hfcaUe",
        "colab": {
          "base_uri": "https://localhost:8080/"
        },
        "outputId": "a8be25aa-dad4-4623-fe4a-bbdddbc27900"
      },
      "execution_count": 8,
      "outputs": [
        {
          "output_type": "stream",
          "name": "stdout",
          "text": [
            "Writing geo_transform/__main__.py\n"
          ]
        }
      ]
    },
    {
      "cell_type": "markdown",
      "source": [
        "### **Содержимое модуля main.py (с импортом пакета и тестированием функций из него):**"
      ],
      "metadata": {
        "id": "vGqPXMcdcpxE"
      }
    },
    {
      "cell_type": "code",
      "source": [
        "# Тестирование\n",
        "from geo_transform import (\n",
        "    write_results_to_file, read_coordinates_from_file,\n",
        "    cartesian_to_spherical, spherical_to_cartesian,\n",
        "    deg_to_rad, rad_to_deg\n",
        ")\n",
        "\n",
        "def test_transformations():\n",
        "    print(\"==========================================================\")\n",
        "    print(\"Тест 1: Декартовы -> Сферические -> Декартовы\\n\")\n",
        "    x, y, z = 1.0, 1.0, 1.0\n",
        "    r, theta, phi = cartesian_to_spherical(x, y, z)\n",
        "    print(f\"Декартовы: ({x}, {y}, {z})\")\n",
        "    print(f\"Сферические (рад): r={r}, θ={theta}, φ={phi}\")\n",
        "    print(f\"Сферические (град): θ={rad_to_deg(theta)} градусов, φ={rad_to_deg(phi)} градусов\")\n",
        "\n",
        "    # Обратное преобразование\n",
        "    x2, y2, z2 = spherical_to_cartesian(r, theta, phi)\n",
        "    print(f\"Обратно в декартовы: ({x2}, {y2}, {z2})\")\n",
        "    # 1e-10 - разница в точности измерения машин, условное маленькое число,\n",
        "    # которое может возникать при действии с числами с плавающей точкой\n",
        "    assert abs(x - x2) < 1e-10 and abs(y - y2) < 1e-10 and abs(z - z2) < 1e-10\n",
        "    print(\"\\nТест 1 пройден. Функции cartesian_to_spherical и spherical_to_cartesian работают корректно.\\n\")\n",
        "    print(\"==========================================================\")\n",
        "\n",
        "def test_file_operations():\n",
        "    print(\"==========================================================\")\n",
        "    print(\"Тест 2: чтение и запись из файла.\\n\")\n",
        "    test_data = [(1.0, 2.0, 3.0), (0.0, 0.0, 5.0)]\n",
        "    write_results_to_file(\"test_output.txt\", test_data)\n",
        "\n",
        "    # Читаем, что записали\n",
        "    loaded = read_coordinates_from_file(\"test_output.txt\")\n",
        "    print(f\"Записано: {test_data}\")\n",
        "    print(f\"Прочитано: {loaded}\")\n",
        "\n",
        "    # Проверяем совпадение, что все данные записались\n",
        "    assert len(test_data) == len(loaded)\n",
        "    # Проверяем совпадениечто, что данные одинаковые\n",
        "    assert test_data == loaded\n",
        "    print(\"\\nТест 2 пройден. Функции read_coordinates_from_file и write_results_to_file работают корректно.\\n\")\n",
        "    print(\"==========================================================\")\n",
        "\n",
        "def test_deg_rad_utils():\n",
        "    print(\"==========================================================\")\n",
        "    print(\"Тест 3: Преобразование градусов и радиан\\n\")\n",
        "    deg = 90.0\n",
        "    rad = deg_to_rad(deg)\n",
        "    back_to_deg = rad_to_deg(rad)\n",
        "    print(f\"90 градусов → {rad} рад → {back_to_deg} градусов\")\n",
        "    assert abs(back_to_deg - 90.0) < 1e-10\n",
        "    print(\"\\nТест 3 пройден. Функции deg_to_rad и rad_to_deg работают корректно.\\n\")\n",
        "    print(\"==========================================================\")\n",
        "\n",
        "if __name__ == \"__main__\":\n",
        "    print(\"Запуск тестов пакета geo_transform\\n\")\n",
        "    try:\n",
        "        test_transformations()\n",
        "        test_file_operations()\n",
        "        test_deg_rad_utils()\n",
        "        print(\"Все тесты успешно пройдены! Пакет работает корректно.\")\n",
        "    except Exception as e:\n",
        "        print(f\"Ошибка при тестировании: {e}\")\n",
        "        raise"
      ],
      "metadata": {
        "id": "4b1mRDL6cpxE",
        "colab": {
          "base_uri": "https://localhost:8080/"
        },
        "outputId": "1121ac60-5acb-4d59-a89b-aa448e02515b"
      },
      "execution_count": 10,
      "outputs": [
        {
          "output_type": "stream",
          "name": "stdout",
          "text": [
            "Запуск тестов пакета geo_transform\n",
            "\n",
            "==========================================================\n",
            "Тест 1: Декартовы -> Сферические -> Декартовы\n",
            "\n",
            "Декартовы: (1.0, 1.0, 1.0)\n",
            "Сферические (рад): r=1.7320508075688772, θ=0.7853981633974484, φ=0.9553166181245093\n",
            "Сферические (град): θ=45.00000000000001 градусов, φ=54.735610317245346 градусов\n",
            "Обратно в декартовы: (0.9999999999999998, 1.0, 0.9999999999999999)\n",
            "\n",
            "Тест 1 пройден. Функции cartesian_to_spherical и spherical_to_cartesian работают корректно.\n",
            "\n",
            "==========================================================\n",
            "==========================================================\n",
            "Тест 2: чтение и запись из файла.\n",
            "\n",
            "Результаты записаны в файл: test_output.txt\n",
            "Записано: [(1.0, 2.0, 3.0), (0.0, 0.0, 5.0)]\n",
            "Прочитано: [(1.0, 2.0, 3.0), (0.0, 0.0, 5.0)]\n",
            "\n",
            "Тест 2 пройден. Функции read_coordinates_from_file и write_results_to_file работают корректно.\n",
            "\n",
            "==========================================================\n",
            "==========================================================\n",
            "Тест 3: Преобразование градусов и радиан\n",
            "\n",
            "90 градусов → 1.5707963267948966 рад → 90.0 градусов\n",
            "\n",
            "Тест 3 пройден. Функции deg_to_rad и rad_to_deg работают корректно.\n",
            "\n",
            "==========================================================\n",
            "Все тесты успешно пройдены! Пакет работает корректно.\n"
          ]
        }
      ]
    }
  ]
}