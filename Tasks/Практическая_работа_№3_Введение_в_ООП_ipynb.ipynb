{
  "nbformat": 4,
  "nbformat_minor": 0,
  "metadata": {
    "colab": {
      "provenance": [],
      "include_colab_link": true
    },
    "kernelspec": {
      "name": "python3",
      "display_name": "Python 3"
    },
    "language_info": {
      "name": "python"
    }
  },
  "cells": [
    {
      "cell_type": "markdown",
      "metadata": {
        "id": "view-in-github",
        "colab_type": "text"
      },
      "source": [
        "<a href=\"https://colab.research.google.com/github/Olya-Shulga/Univercity/blob/main/Tasks/%D0%9F%D1%80%D0%B0%D0%BA%D1%82%D0%B8%D1%87%D0%B5%D1%81%D0%BA%D0%B0%D1%8F_%D1%80%D0%B0%D0%B1%D0%BE%D1%82%D0%B0_%E2%84%963_%D0%92%D0%B2%D0%B5%D0%B4%D0%B5%D0%BD%D0%B8%D0%B5_%D0%B2_%D0%9E%D0%9E%D0%9F_ipynb.ipynb\" target=\"_parent\"><img src=\"https://colab.research.google.com/assets/colab-badge.svg\" alt=\"Open In Colab\"/></a>"
      ]
    },
    {
      "cell_type": "markdown",
      "source": [
        "# **Практическая работа №3. Введение в ООП**\n",
        "\n",
        "\n"
      ],
      "metadata": {
        "id": "s-EuQCpnWXCn"
      }
    },
    {
      "cell_type": "markdown",
      "source": [
        "## **Задание №1. Создайте класс Sphere для представления сферы в трехмерном пространстве**\n"
      ],
      "metadata": {
        "id": "TQ5SpdjdbD4D"
      }
    },
    {
      "cell_type": "markdown",
      "source": [
        "Обеспечьте следующие методы класса:\n",
        "\n",
        "1. Конструктор, принимающий 4 действительных числа: радиус, и 3 координаты центра шара. Если конструктор вызывается без аргументов, создать объект сферы с единичным радиусом и центром в начале координат. Если конструктор вызывается с аргументом, создать объект сферы с соответствующим радиусом и центром в начале координат.\n",
        "\n",
        "2. Метод get_volume (), который возвращает действительное число — объем шара, ограниченной текущей сферой.\n",
        "\n",
        "3. Метод get_square (), который возвращает действительное число — площадь внешней поверхности сферы.\n",
        "\n",
        "4. Метод get_radius (), который возвращает действительное число — радиус сферы.\n",
        "\n",
        "5. Метод get_center (), который возвращает тьюпл с 3 действительными числами — координатами центра сферы в том же порядке, в каком они задаются в конструкторе.\n",
        "\n",
        "6. Метод set_radius (r), который принимает 1 аргумент — действительное число, и меняет радиус текущей сферы, ничего не возвращая.\n",
        "\n",
        "7. Метод set_center (x, y, z), который принимает 3 аргумента — действительных числа, и меняет координаты центра сферы, ничего не возвращая. Координаты задаются в том же порядке, что и в конструкторе.\n",
        "\n",
        "8. Метод is_point_inside (x, y, z), который принимает 3 аргумента — действительных числа — координаты некоторой точки в пространстве (в том же порядке, что и в конструкторе), и возвращает логическое значение True или False в зависимости от того, находится эта точка внутри сферы."
      ],
      "metadata": {
        "id": "Q5Ow51wfASZH"
      }
    },
    {
      "cell_type": "code",
      "source": [
        "# Тесты\n",
        "\n",
        "s0 = Sphere(0.5) # test sphere creation with radius and default center\n",
        "print(s0.get_center()) # (0.0, 0.0, 0.0)\n",
        "print(s0.get_volume()) # 0.523598775598\n",
        "print(s0.is_point_inside(0 , -1.5, 0)) # False\n",
        "s0.set_radius(1.6)\n",
        "print(s0.is_point_inside(0, -1.5, 0)) # True\n",
        "print(s0.get_radius()) # 1.6"
      ],
      "metadata": {
        "id": "xYx3bR2Lbv42",
        "colab": {
          "base_uri": "https://localhost:8080/"
        },
        "outputId": "228a7871-80f1-4918-9020-c0587b10edb5"
      },
      "execution_count": null,
      "outputs": [
        {
          "output_type": "stream",
          "name": "stdout",
          "text": [
            "(0.0, 0.0, 0.0)\n",
            "0.5235987755982988\n",
            "False\n",
            "True\n",
            "1.6\n"
          ]
        }
      ]
    },
    {
      "cell_type": "code",
      "source": [
        "import math\n",
        "\n",
        "class Sphere:\n",
        "    '''Класс для представления сферы в трехмерном пространстве'''\n",
        "\n",
        "    def __init__(self, radius=1, x=0.0, y=0.0, z=0.0):\n",
        "        self.radius = float(radius)\n",
        "        self.x = float(x)\n",
        "        self.y = float(y)\n",
        "        self.z = float(z)\n",
        "\n",
        "    def get_volume(self):\n",
        "        '''\n",
        "        Возвращает объём шара, ограниченного сферой: V = (4/3) * pi * r^3\n",
        "        '''\n",
        "        volume = (4/3) * math.pi * (self.radius ** 3)\n",
        "        return volume\n",
        "\n",
        "    def get_square(self):\n",
        "        '''\n",
        "        Возвращает площадь поверхности сферы: S = 4 * pi * r^2\n",
        "        '''\n",
        "        square = 4 * math.pi * (self.radius ** 2)\n",
        "        return square\n",
        "\n",
        "    def get_radius(self):\n",
        "        '''\n",
        "        Возвращает радиус сферы.\n",
        "        '''\n",
        "        return self.radius\n",
        "\n",
        "    def get_center(self):\n",
        "        '''\n",
        "        Возвращает кортеж (x, y, z) — координаты центра сферы.\n",
        "        '''\n",
        "        return (self.x, self.y, self.z)\n",
        "\n",
        "    def set_radius(self, r):\n",
        "        '''\n",
        "        Устанавливает новый радиус сферы.\n",
        "\n",
        "        Параметр:\n",
        "            r (float): новый радиус\n",
        "        '''\n",
        "        self.radius = float(r)\n",
        "\n",
        "    def set_center(self, x, y, z):\n",
        "        '''\n",
        "        Устанавливает новые координаты центра сферы.\n",
        "\n",
        "        Параметры:\n",
        "            x (float): новая координата X\n",
        "            y (float): новая координата Y\n",
        "            z (float): новая координата Z\n",
        "        '''\n",
        "        self.x = float(x)\n",
        "        self.y = float(y)\n",
        "        self.z = float(z)\n",
        "\n",
        "    def is_point_inside(self, x, y, z):\n",
        "        '''\n",
        "        Проверяет, находится ли точка (x, y, z) внутри шара (включая границу).\n",
        "        Точка считается внутри, если расстояние до центра <= радиусу.\n",
        "\n",
        "        Параметры:\n",
        "            x, y, z (float): координаты точки\n",
        "\n",
        "        Возвращает:\n",
        "            bool: True, если точка внутри или на поверхности, иначе False\n",
        "        '''\n",
        "        dx = x - self.x\n",
        "        dy = y - self.y\n",
        "        dz = z - self.z\n",
        "        distance_squared = dx**2 + dy**2 + dz**2\n",
        "        return distance_squared <= self.radius**2\n"
      ],
      "metadata": {
        "id": "d-vd-AYRdBId"
      },
      "execution_count": null,
      "outputs": []
    },
    {
      "cell_type": "markdown",
      "source": [
        "## **Задание №2. Создайте класс SuperStr, который наследует стандартный класс str и содержит 2 новых метода:**"
      ],
      "metadata": {
        "id": "UuJ9K_zAcaY_"
      }
    },
    {
      "cell_type": "markdown",
      "source": [
        "1. Метод is_repeatance (s), который принимает 1 аргумент s и возвращает True или False в зависимости от того, может ли текущая строку быть получена целым количеством повторов строки s. Вернуть False, если s не является строкой. Считать, что пустая строка не содержит повторов.\n",
        "\n",
        "2. Метод is_palindrom (), который возвращает True или False в зависимости от того, является ли строка [палиндромом](https://ru.wikipedia.org/wiki/Палиндром). Регистрами символов пренебрегать. Пустую строку считать палиндромом."
      ],
      "metadata": {
        "id": "GX99X81VchPW"
      }
    },
    {
      "cell_type": "code",
      "source": [
        "class SuperStr(str):\n",
        "    '''\n",
        "    Класс SuperStr наследуется от str и добавляет дополнительные методы:\n",
        "    - is_repeatance(s): проверяет, состоит ли строка из нескольких повторений s\n",
        "    - is_palindrom(): проверяет, является ли строка палиндромом\n",
        "    '''\n",
        "\n",
        "    def is_repeatance(self, s):\n",
        "        '''\n",
        "        Проверяет, может ли текущая строка быть получена путём\n",
        "        многократного повторения строки s.\n",
        "\n",
        "        Параметр:\n",
        "            s (любой тип) — предполагаемый повторяющийся фрагмент\n",
        "\n",
        "        Возвращает:\n",
        "            bool: True, если строка == s + s + ... + s (целое число раз)\n",
        "                  False, если s не строка, или длина строки не делится на\n",
        "                  len(s), или строка не состоит из повторов s.\n",
        "        '''\n",
        "        # Если s не строка — возвращаем False\n",
        "        if not isinstance(s, str):\n",
        "            return False\n",
        "\n",
        "        # Пустая строка s или пустая текущая строка\n",
        "        if len(s) == 0 or len(self) == 0:\n",
        "            return False  # по условию: пустая строка не содержит повторов\n",
        "\n",
        "        # Длина текущей строки должна делиться на длину s\n",
        "        if len(self) % len(s) != 0:\n",
        "            return False\n",
        "\n",
        "        # Проверяем, состоит ли строка только из повторений s\n",
        "        repeat_count = len(self) // len(s)\n",
        "        return self == s * repeat_count\n",
        "\n",
        "    def is_palindrom(self):\n",
        "        \"\"\"\n",
        "        Проверяет, является ли строка палиндромом.\n",
        "        Регистр символов игнорируется. Пробелы и знаки препинания учитываются.\n",
        "        Пустая строка считается палиндромом.\n",
        "\n",
        "        Возвращает:\n",
        "            bool: True, если строка — палиндром, иначе False\n",
        "        \"\"\"\n",
        "        # Пустая строка — палиндром\n",
        "        if len(self) == 0:\n",
        "            return True\n",
        "\n",
        "        # Приводим к нижнему регистру\n",
        "        cleaned = self.lower()\n",
        "        return cleaned == cleaned[::-1]  # строка равна своей обратной версии?\n"
      ],
      "metadata": {
        "id": "LtIAKDWFdEcr"
      },
      "execution_count": null,
      "outputs": []
    },
    {
      "cell_type": "code",
      "source": [
        "# Тесты\n",
        "\n",
        "s = SuperStr(\"123123123123\")\n",
        "print(s.is_repeatance(\"123\")) # True\n",
        "print(s.is_repeatance(\"123123\")) # True\n",
        "print(s.is_repeatance(\"123123123123\")) # True\n",
        "print(s.is_repeatance(\"12312\")) # False\n",
        "print(s.is_repeatance(123)) # False\n",
        "print(s.is_palindrom()) # False\n",
        "print(s) # 123123123123 (строка)\n",
        "print(int(s)) # 123123123123 (целое число)\n",
        "print(s + \"qwe\") # 123123123123qwe\n",
        "p = SuperStr(\"123_321\")\n",
        "print(p.is_palindrom()) # True"
      ],
      "metadata": {
        "id": "oRO3alwicoNp",
        "colab": {
          "base_uri": "https://localhost:8080/"
        },
        "outputId": "9098a045-20eb-4e36-c645-bc0824afb216"
      },
      "execution_count": null,
      "outputs": [
        {
          "output_type": "stream",
          "name": "stdout",
          "text": [
            "True\n",
            "True\n",
            "True\n",
            "False\n",
            "False\n",
            "False\n",
            "123123123123\n",
            "123123123123\n",
            "123123123123qwe\n",
            "True\n"
          ]
        }
      ]
    },
    {
      "cell_type": "markdown",
      "source": [
        "## **Задание №3. В коде ниже представлен класс преподавателей и класс студентов (вы можете взять этот код за основу или написать свой).**"
      ],
      "metadata": {
        "id": "m9EGwLY9jZbw"
      }
    },
    {
      "cell_type": "code",
      "source": [
        "class Student:\n",
        "    def __init__(self, name, surname, gender):\n",
        "        self.name = name\n",
        "        self.surname = surname\n",
        "        self.gender = gender\n",
        "        self.finished_courses = []\n",
        "        self.courses_in_progress = []\n",
        "        self.grades = {}\n",
        "\n",
        "    def add_courses(self, course_name):\n",
        "        self.finished_courses.append(course_name)\n",
        "\n",
        "\n",
        "class Mentor:\n",
        "    def __init__(self, name, surname):\n",
        "        self.name = name\n",
        "        self.surname = surname\n",
        "        self.courses_attached = []\n",
        "\n",
        "    def rate_hw(self, student, course, grade):\n",
        "        student.grades[course] = [grade]"
      ],
      "metadata": {
        "id": "PlqK9m7KrT6e"
      },
      "execution_count": 10,
      "outputs": []
    },
    {
      "cell_type": "code",
      "source": [
        "best_student = Student('Ruoy', 'Eman', 'your_gender')\n",
        "cool_mentor = Mentor('Some', 'Buddy')\n",
        "cool_mentor.rate_hw(best_student, 'Python', 10)\n",
        "\n",
        "print(\"Имя студента: \", best_student.name)\n",
        "print(\"Имя преподавателя: \", cool_mentor.name)\n",
        "print(\"Оценки студента по курсам: \", best_student.grades)"
      ],
      "metadata": {
        "colab": {
          "base_uri": "https://localhost:8080/"
        },
        "id": "oNc1-dVaw3ee",
        "outputId": "54e3be95-ffe2-46e6-d682-7dfd5f090479"
      },
      "execution_count": 11,
      "outputs": [
        {
          "output_type": "stream",
          "name": "stdout",
          "text": [
            "Имя студента:  Ruoy\n",
            "Имя преподавателя:  Some\n",
            "Оценки студента по курсам:  {'Python': [10]}\n"
          ]
        }
      ]
    },
    {
      "cell_type": "markdown",
      "source": [
        "### **3.1. Наследование**"
      ],
      "metadata": {
        "id": "08FkYxULrxE-"
      }
    },
    {
      "cell_type": "markdown",
      "source": [
        "* Класс Mentor должен стать родительским классом для преподавателей. От него нужно реализовать наследование классов Lecturer (лекторы) и Reviewer (эксперты, проверяющие домашние задания).\n",
        "\n",
        "> Имя, фамилю и список закрепленных курсов логично реализовать на уровне родительского класса."
      ],
      "metadata": {
        "id": "YNjsCv5ItOii"
      }
    },
    {
      "cell_type": "code",
      "source": [
        "class Mentor:\n",
        "    def __init__(self, name, surname):\n",
        "        self.name = name\n",
        "        self.surname = surname\n",
        "        self.courses_attached = [] # список закрепленных курсов\n",
        "\n",
        "    def __str__(self):\n",
        "        return f\"Имя: {self.name}\\nФамилия: {self.surname}\"\n",
        "\n",
        "\n",
        "class Lecturer(Mentor):\n",
        "    \"\"\"\n",
        "    Лектор, получающий оценки от студентов.\n",
        "    Хранит оценки за свои лекции.\n",
        "    \"\"\"\n",
        "    def __init__(self, name, surname):\n",
        "        super().__init__(name, surname)\n",
        "        self.lecture_grades = {}  # Словарь для хранения оценок за лекции\n",
        "\n",
        "\n",
        "class Reviewer(Mentor):\n",
        "    \"\"\"\n",
        "    Эксперт, проверяющий домашние задания.\n",
        "    Может выставлять оценки студентам.\n",
        "    \"\"\"\n",
        "    pass\n"
      ],
      "metadata": {
        "id": "1quZPRZKtIoc"
      },
      "execution_count": 7,
      "outputs": []
    },
    {
      "cell_type": "markdown",
      "source": [
        "### **3.2. Атрибуты и взаимодействие классов**"
      ],
      "metadata": {
        "id": "oL8kB-uUtH5K"
      }
    },
    {
      "cell_type": "markdown",
      "source": [
        "* Реализуйте возможность проставления оценок студентам только Reviewer-ам (реализуйте такой метод).\n",
        "\n",
        "* Реализуйте метод выставления оценок лекторам у класса Student (оценки по 10-балльной шкале, хранятся в атрибуте-словаре у Lecturer, в котором ключи – названия курсов, а значения – списки оценок). Лектор при этом должен быть закреплен за тем курсом, на который записан студент (реализовать проверку)."
      ],
      "metadata": {
        "id": "ddcuJFCksWsY"
      }
    },
    {
      "cell_type": "code",
      "source": [
        "# Модифицирую класс Reviewer\n",
        "class Reviewer(Mentor):\n",
        "    def rate_hw(self, student, course, grade):\n",
        "        \"\"\"\n",
        "        Принцип работы функции:\n",
        "          1. Проверяем три условия:\n",
        "                student — это объект класса Student (isinstance)\n",
        "                Курс прикреплён к проверяющему (in courses_attached)\n",
        "                Студент изучает этот курс (in courses_in_progress)\n",
        "          2. Если все условия выполняются, то:\n",
        "                Добавляем оценку в список по нужному курсу.\n",
        "                Если курс ещё не встречался — создаём новый список.\n",
        "          3. Иначе — выводится ошибллка.\n",
        "        \"\"\"\n",
        "        if (isinstance(student, Student) and course in self.courses_attached\n",
        "            and course in student.courses_in_progress):\n",
        "            if course in student.grades:\n",
        "                student.grades[course].append(grade)\n",
        "            else:\n",
        "                student.grades[course] = [grade]\n",
        "        else:\n",
        "            print('Ошибка при выставлении оценки студенту')\n",
        "\n",
        "\n",
        "# Расширяю класс Student\n",
        "class Student:\n",
        "    def __init__(self, name, surname, gender):\n",
        "        self.name = name\n",
        "        self.surname = surname\n",
        "        self.gender = gender\n",
        "        self.finished_courses = []\n",
        "        self.courses_in_progress = []\n",
        "        self.grades = {}\n",
        "\n",
        "    def add_courses(self, course_name):\n",
        "        self.finished_courses.append(course_name)\n",
        "\n",
        "    def rate_lecturer(self, lecturer, course, grade):\n",
        "        \"\"\"\n",
        "        Функция позволяет студенту оценивать лектора.\n",
        "          1. Проверяем:\n",
        "              lecturer — действительно Lecturer\n",
        "              Лектор ведёт курс (course in lecturer.courses_attached)\n",
        "              Студент учится на этом курсе (course in courses_in_progress)\n",
        "              Оценка от 1 до 10\n",
        "          2. Если всё ок — добавляет оценку в lecture_grades лектора.\n",
        "          3. Иначе — сообщение об ошибке.\n",
        "        \"\"\"\n",
        "        if (isinstance(lecturer, Lecturer) and\n",
        "            course in lecturer.courses_attached and\n",
        "            course in self.courses_in_progress and\n",
        "            1 <= grade <= 10):\n",
        "            if course in lecturer.lecture_grades:\n",
        "                lecturer.lecture_grades[course].append(grade)\n",
        "            else:\n",
        "                lecturer.lecture_grades[course] = [grade]\n",
        "        else:\n",
        "            print('Ошибка при выставлении оценки лектору')"
      ],
      "metadata": {
        "id": "U30yyvuirv6H"
      },
      "execution_count": 8,
      "outputs": []
    },
    {
      "cell_type": "markdown",
      "source": [
        "### **3.3. Полиморфизм и магические методы**"
      ],
      "metadata": {
        "id": "i6PrwEBSu39u"
      }
    },
    {
      "cell_type": "markdown",
      "source": [
        "Перегрузите магический метод \\_\\_str__ у всех классов.\n",
        "У проверяющих он должен выводить информацию в следующем виде:\n",
        "\n",
        "\n",
        "\n",
        "```\n",
        "print(some_reviewer)\n",
        "Имя: Some\n",
        "Фамилия: Buddy\n",
        "```\n",
        "\n",
        "У лекторов:\n",
        "\n",
        "\n",
        "\n",
        "```\n",
        "print(some_lecturer)\n",
        "Имя: Some\n",
        "Фамилия: Buddy\n",
        "Средняя оценка за лекции: 9.9\n",
        "```\n",
        "\n",
        "А у студентов так:\n",
        "\n",
        "\n",
        "\n",
        "```\n",
        "print(some_student)\n",
        "Имя: Ruoy\n",
        "Фамилия: Eman\n",
        "Средняя оценка за домашние задания: 9.9\n",
        "Курсы в процессе изучения: Python, Git\n",
        "Завершенные курсы: Введение в программирование\n",
        "```\n",
        "\n",
        "\n",
        "\n"
      ],
      "metadata": {
        "id": "GvmtjlnmvF8b"
      }
    },
    {
      "cell_type": "code",
      "source": [
        "class Student:\n",
        "    def __init__(self, name, surname, gender):\n",
        "        self.name = name\n",
        "        self.surname = surname\n",
        "        self.gender = gender\n",
        "        self.finished_courses = []\n",
        "        self.courses_in_progress = []\n",
        "        self.grades = {}\n",
        "\n",
        "    def get_average_grade(self):\n",
        "        \"\"\"\n",
        "        Функция считает среднее по всем оценкам во всех курсах.\n",
        "        \"\"\"\n",
        "        all_grades = []\n",
        "        for grades in self.grades.values():\n",
        "            all_grades.extend(grades)\n",
        "        return round(sum(all_grades) / len(all_grades), 1) if all_grades else 0\n",
        "\n",
        "    def __str__(self):\n",
        "        avg = self.get_average_grade()\n",
        "        courses_in_progress = (', '.join(self.courses_in_progress) if\n",
        "                               self.courses_in_progress else \"нет\")\n",
        "        finished_courses = (', '.join(self.finished_courses) if\n",
        "                            self.finished_courses else \"нет\")\n",
        "        return (f\"Имя: {self.name}\\n\"\n",
        "                f\"Фамилия: {self.surname}\\n\"\n",
        "                f\"Средняя оценка за домашние задания: {avg}\\n\"\n",
        "                f\"Курсы в процессе изучения: {courses_in_progress}\\n\"\n",
        "                f\"Завершенные курсы: {finished_courses}\")\n",
        "\n",
        "\n",
        "class Lecturer(Mentor):\n",
        "    def __init__(self, name, surname):\n",
        "        super().__init__(name, surname)\n",
        "        self.lecture_grades = {}  # Словарь для хранения оценок за лекции\n",
        "\n",
        "    def get_average_lecture_grade(self):\n",
        "        all_grades = []\n",
        "        for grades in self.lecture_grades.values():\n",
        "            all_grades.extend(grades)\n",
        "        return round(sum(all_grades) / len(all_grades), 1) if all_grades else 0\n",
        "\n",
        "    def __str__(self):\n",
        "        avg = self.get_average_lecture_grade()\n",
        "        return (f\"{super().__str__()}\\n\"\n",
        "                f\"Средняя оценка за лекции: {avg}\")\n",
        "\n",
        "\n",
        "class Reviewer(Mentor):\n",
        "    def __str__(self):\n",
        "        return super().__str__()  # просто имя и фамилия"
      ],
      "metadata": {
        "id": "gCJAL_EmwU0b"
      },
      "execution_count": 9,
      "outputs": []
    },
    {
      "cell_type": "markdown",
      "source": [
        "**Реализуйте перегрузку других магических методов на Ваш выбор (не менее трёх), руководствуясь по смыслу контекстом представленных классов (студенты, преподаватели, оценки и т.д.)**"
      ],
      "metadata": {
        "id": "1DNE4TE3vfYI"
      }
    },
    {
      "cell_type": "code",
      "source": [
        "# Методы сравнения для Student\n",
        "def __lt__(self, other):\n",
        "    if isinstance(other, Student):\n",
        "        return self.get_average_grade() < other.get_average_grade()\n",
        "    return NotImplemented\n",
        "\n",
        "def __le__(self, other):\n",
        "    if isinstance(other, Student):\n",
        "        return self.get_average_grade() <= other.get_average_grade()\n",
        "    return NotImplemented\n",
        "\n",
        "def __eq__(self, other):\n",
        "    if isinstance(other, Student):\n",
        "        return self.get_average_grade() == other.get_average_grade()\n",
        "    return NotImplemented\n",
        "\n",
        "def __gt__(self, other):\n",
        "    if isinstance(other, Student):\n",
        "        return self.get_average_grade() > other.get_average_grade()\n",
        "    return NotImplemented\n",
        "\n",
        "def __ge__(self, other):\n",
        "    if isinstance(other, Student):\n",
        "        return self.get_average_grade() >= other.get_average_grade()\n",
        "    return NotImplemented\n",
        "\n",
        "def __ne__(self, other):\n",
        "    result = self.__eq__(other)\n",
        "    return not result if result is not NotImplemented else NotImplemented\n",
        "\n",
        "# Присваиваем все методы классу Student\n",
        "Student.__lt__ = __lt__\n",
        "Student.__le__ = __le__\n",
        "Student.__eq__ = __eq__\n",
        "Student.__gt__ = __gt__\n",
        "Student.__ge__ = __ge__\n",
        "Student.__ne__ = __ne__\n",
        "\n",
        "\n",
        "# Методы сравнения для Lecturer\n",
        "def __lt__(self, other):\n",
        "    if isinstance(other, Lecturer):\n",
        "        return self.get_average_lecture_grade() < other.get_average_lecture_grade()\n",
        "    return NotImplemented\n",
        "\n",
        "def __le__(self, other):\n",
        "    if isinstance(other, Lecturer):\n",
        "        return self.get_average_lecture_grade() <= other.get_average_lecture_grade()\n",
        "    return NotImplemented\n",
        "\n",
        "def __eq__(self, other):\n",
        "    if isinstance(other, Lecturer):\n",
        "        return self.get_average_lecture_grade() == other.get_average_lecture_grade()\n",
        "    return NotImplemented\n",
        "\n",
        "def __gt__(self, other):\n",
        "    if isinstance(other, Lecturer):\n",
        "        return self.get_average_lecture_grade() > other.get_average_lecture_grade()\n",
        "    return NotImplemented\n",
        "\n",
        "def __ge__(self, other):\n",
        "    if isinstance(other, Lecturer):\n",
        "        return self.get_average_lecture_grade() >= other.get_average_lecture_grade()\n",
        "    return NotImplemented\n",
        "\n",
        "def __ne__(self, other):\n",
        "    result = self.__eq__(other)\n",
        "    return not result if result is not NotImplemented else NotImplemented\n",
        "\n",
        "# Присваиваем методы\n",
        "Lecturer.__lt__ = __lt__\n",
        "Lecturer.__le__ = __le__\n",
        "Lecturer.__eq__ = __eq__\n",
        "Lecturer.__gt__ = __gt__\n",
        "Lecturer.__ge__ = __ge__\n",
        "Lecturer.__ne__ = __ne__"
      ],
      "metadata": {
        "id": "WNCf9PPMu4Gv"
      },
      "execution_count": 13,
      "outputs": []
    },
    {
      "cell_type": "markdown",
      "source": [
        "### **3.4. Тестирование**\n",
        "\n",
        "Создайте по 2 экземпляра каждого класса, вызовите все созданные методы, а также реализуйте две функции:\n",
        "\n",
        "* для подсчета средней оценки за домашние задания по всем студентам в рамках конкретного курса (в качестве аргументов принимаем список студентов и название курса);\n",
        "* для подсчета средней оценки за лекции всех лекторов в рамках курса (в качестве аргумента принимаем список лекторов и название курса)."
      ],
      "metadata": {
        "id": "X8xvLNT6u4Nn"
      }
    },
    {
      "cell_type": "code",
      "source": [
        "student1 = Student('Ruoy', 'Eman', 'm')\n",
        "student1.courses_in_progress += ['Python']\n",
        "student1.grades['Python'] = [9, 10, 8]\n",
        "\n",
        "lecturer1 = Lecturer('Some', 'Buddy')\n",
        "lecturer1.courses_attached += ['Python']\n",
        "lecturer1.lecture_grades['Python'] = [10, 9, 10]\n",
        "\n",
        "reviewer1 = Reviewer('Another', 'Buddy')\n",
        "reviewer1.courses_attached += ['Python']\n",
        "\n",
        "print(reviewer1)\n",
        "print()\n",
        "print(lecturer1)\n",
        "print()\n",
        "print(student1)\n",
        "print()\n",
        "\n",
        "student2 = Student('Worst', 'Student', 'f')\n",
        "student2.grades['Python'] = [5, 4, 6]\n",
        "\n",
        "print(\"student1 > student2:\", student1 > student2)\n",
        "print(\"lecturer1 >= lecturer1:\", lecturer1 >= lecturer1)"
      ],
      "metadata": {
        "id": "uh8n08fdu4V_",
        "colab": {
          "base_uri": "https://localhost:8080/"
        },
        "outputId": "b5fad6a5-a476-4f87-deb9-27db49fe616c"
      },
      "execution_count": 14,
      "outputs": [
        {
          "output_type": "stream",
          "name": "stdout",
          "text": [
            "Имя: Another\n",
            "Фамилия: Buddy\n",
            "\n",
            "Имя: Some\n",
            "Фамилия: Buddy\n",
            "Средняя оценка за лекции: 9.7\n",
            "\n",
            "Имя: Ruoy\n",
            "Фамилия: Eman\n",
            "Средняя оценка за домашние задания: 9.0\n",
            "Курсы в процессе изучения: Python\n",
            "Завершенные курсы: нет\n",
            "\n",
            "student1 > student2: True\n",
            "lecturer1 >= lecturer1: True\n"
          ]
        }
      ]
    },
    {
      "cell_type": "markdown",
      "source": [
        "## **Задание №4. Перегрузка операторов с помощью магических методов**\n"
      ],
      "metadata": {
        "id": "ehfo80anwJUM"
      }
    },
    {
      "cell_type": "markdown",
      "source": [
        "### **Цель задания:**\n",
        "\n"
      ],
      "metadata": {
        "id": "i_KsKg4awZOJ"
      }
    },
    {
      "cell_type": "markdown",
      "source": [
        "Разработать класс `Fraction` для работы с рациональными числами (дробями), реализовав перегрузку стандартных операторов через переопределение соответствующих магических методов. Ваша задача — обеспечить класс `Fraction` функциональностью, демонстрируемой в приведенном примере кода."
      ],
      "metadata": {
        "id": "JvIIB641watq"
      }
    },
    {
      "cell_type": "markdown",
      "source": [
        "### **Описание задания:**\n",
        "\n"
      ],
      "metadata": {
        "id": "BZ9kMLrYwcW_"
      }
    },
    {
      "cell_type": "markdown",
      "source": [
        "Создайте класс `Fraction`, который представляет собой обыкновенную дробь с числителем и знаменателем. Перегрузите основные арифметические операторы для выполнения операций над дробями, а также операторы сравнения. Обеспечьте возможность преобразования дроби в число с плавающей точкой и обратную операцию. Реализуйте обработку исключений при некорректных данных. Предоставьте понятное строковое и официальное представление дроби."
      ],
      "metadata": {
        "id": "6Qt56A-Bwe87"
      }
    },
    {
      "cell_type": "markdown",
      "source": [
        "**Требования к заданию:**\n"
      ],
      "metadata": {
        "id": "1lv3NnB_whqP"
      }
    },
    {
      "cell_type": "markdown",
      "source": [
        "\n",
        "1. **Класс `Fraction` должен:**\n",
        "\n",
        "   - Инициализироваться двумя целыми числами: числителем и знаменателем.\n",
        "   - Обрабатывать ситуацию когда знаменатель равен нулю, а именно выводить сообщение `\"Знаменатель не может быть нулем\"`.\n",
        "   - Упрощать дроби до несократимых при создании и после каждой арифметической операции.\n",
        "\n",
        "2. **Перегрузить следующие операторы путем переопределения магических методов:**\n",
        "\n",
        "   - **Сложение `+`** (`__add__`): сложение двух дробей, возвращает новую дробь.\n",
        "   - **Вычитание `-`** (`__sub__`): вычитание одной дроби из другой, возвращает новую дробь.\n",
        "   - **Умножение `*`** (`__mul__`): умножение двух дробей, возвращает новую дробь.\n",
        "   - **Деление `/`** (`__truediv__`): деление одной дроби на другую, возвращает новую дробь.\n",
        "   - **Равенство `==`** (`__eq__`): проверка равенства двух дробей.\n",
        "   - **Сравнения `>`, `<`, `>=`, `<=`**: сравнение дробей по их значению, реализовать методы `__lt__`, `__le__`, `__gt__`, `__ge__`.\n",
        "\n",
        "3. **Реализовать преобразование типов:**\n",
        "\n",
        "   - **Метод `__float__`**: преобразование дроби в число с плавающей точкой.\n",
        "\n",
        "4. **Дополнительные методы класса:**\n",
        "\n",
        "   - **`reciprocal()`**: возвращает новую дробь, обратную данной (числитель и знаменатель меняются местами).\n",
        "   - **Строковое представление** (`__str__`): возвращает строку вида `\"числитель/знаменатель\"`. Если знаменатель равен 1, возвращает только числитель в виде строки.\n",
        "   - **Официальное представление** (`__repr__`): возвращает строку вида `\"Fraction(числитель, знаменатель)\"`.\n",
        "\n",
        "5. **Обработка исключений:**\n",
        "\n",
        "   - При попытке создать дробь с нулевым знаменателем выводить в консоль сообщение `ValueError`.\n",
        "   - При попытке деления на нулевую дробь, выводить в консоль сообщение `ZeroDivisionError`.\n",
        "\n",
        "6. **Тестирование:**\n",
        "\n",
        "   - Написать код, демонстрирующий работу всех реализованных методов и операторов, используя примеры, приведенные ниже.\n",
        "   - Обеспечить корректную обработку исключений и вывод соответствующих сообщений.\n",
        "\n",
        "\n",
        "\n"
      ],
      "metadata": {
        "id": "4tJX8suPv0TY"
      }
    },
    {
      "cell_type": "code",
      "source": [
        "import math\n",
        "\n",
        "class Fraction:\n",
        "    def __init__(self, numerator, denominator):\n",
        "        self.numerator = numerator\n",
        "        self.denominator = denominator\n",
        "\n",
        "        if denominator == 0:\n",
        "            raise ValueError(\"Знаменатель не может быть нулём\")\n",
        "\n",
        "        common = math.gcd(self.numerator, self.denominator)\n",
        "        self.numerator = numerator // common\n",
        "        self.denominator = denominator // common\n",
        "\n",
        "    def __str__(self):\n",
        "        if self.denominator == 1:\n",
        "            return f\"{self.numerator}\"\n",
        "        return f\"{self.numerator}/{self.denominator}\"\n",
        "\n",
        "    def __add__(self, other):\n",
        "        new_numerator = (self.numerator * other.denominator +\n",
        "                         other.numerator * self.denominator)\n",
        "        new_denominator = self.denominator * other.denominator\n",
        "        return Fraction(new_numerator, new_denominator)\n",
        "\n",
        "    def __sub__(self, other):\n",
        "        new_numerator = (self.numerator*other.denominator -\n",
        "                         other.numerator * self.denominator)\n",
        "        new_denominator = self.denominator * other.denominator\n",
        "        return Fraction(new_numerator, new_denominator)\n",
        "\n",
        "    def __mul__(self, other):\n",
        "        new_numerator = self.numerator * other.numerator\n",
        "        new_denominator = self.denominator * other.denominator\n",
        "        return Fraction(new_numerator, new_denominator)\n",
        "\n",
        "    def __truediv__(self, other):\n",
        "        new_numerator = self.numerator * other.denominator\n",
        "        new_denominator = self.denominator * other.numerator\n",
        "        return Fraction(new_numerator, new_denominator)\n",
        "\n",
        "    def __eq__(self, other):\n",
        "        if isinstance(other, Fraction):\n",
        "            return (self.numerator == other.numerator and\n",
        "                    self.denominator == other.denominator)\n",
        "        return False\n",
        "\n",
        "    def __lt__(self, other):\n",
        "        if isinstance(other, Fraction):\n",
        "            return (self.numerator * other.denominator <\n",
        "                    other.numerator * self.denominator)\n",
        "\n",
        "    def __le__(self, other):\n",
        "        if isinstance(other, Fraction):\n",
        "            return (self.numerator * other.denominator <=\n",
        "                    other.numerator * self.denominator)\n",
        "\n",
        "    def __gt__(self, other):\n",
        "        if isinstance(other, Fraction):\n",
        "            return (self.numerator * other.denominator >\n",
        "                    other.numerator * self.denominator)\n",
        "\n",
        "    def __ge__(self, other):\n",
        "        if isinstance(other, Fraction):\n",
        "            return (self.numerator * other.denominator >=\n",
        "                    other.numerator * self.denominator)\n",
        "\n",
        "    def __float__(self):\n",
        "        return self.numerator / self.denominator\n",
        "\n",
        "    def reciprocal(self):\n",
        "        new_num = self.denominator\n",
        "        new_den = self.numerator\n",
        "        return Fraction(new_num, new_den)\n",
        "\n",
        "    def __repr__(self):\n",
        "        return f\"Fraction({self.numerator}, {self.denominator})\"\n",
        "\n",
        "    def from_float(value):\n",
        "        value = str(value)\n",
        "        integer_part, decimal_part = value.split('.')\n",
        "        numerator = int(integer_part + decimal_part)\n",
        "        denominator = 10 ** len(decimal_part)\n",
        "        return Fraction(numerator, denominator)"
      ],
      "metadata": {
        "id": "58JlCtFkxpmU"
      },
      "execution_count": 23,
      "outputs": []
    },
    {
      "cell_type": "markdown",
      "source": [
        "**Тесты для класса `Fraction`:**\n"
      ],
      "metadata": {
        "id": "N5tZxFvIxdIy"
      }
    },
    {
      "cell_type": "code",
      "source": [
        "# Создание дробей\n",
        "f1 = Fraction(3, 4)\n",
        "f2 = Fraction(5, 6)\n",
        "\n",
        "# Сложение дробей\n",
        "f3 = f1 + f2\n",
        "print(f3)  # Ожидаемый вывод: 19/12\n",
        "\n",
        "# Вычитание дробей\n",
        "f4 = f1 - f2\n",
        "print(f4)  # Ожидаемый вывод: -1/12\n",
        "\n",
        "# Умножение дробей\n",
        "f5 = f1 * f2\n",
        "print(f5)  # Ожидаемый вывод: 5/8\n",
        "\n",
        "# Деление дробей\n",
        "f6 = f1 / f2\n",
        "print(f6)  # Ожидаемый вывод: 9/10\n",
        "\n",
        "# Проверка равенства\n",
        "print(f1 == Fraction(6, 8))   # Ожидаемый вывод: True\n",
        "\n",
        "# Сравнение дробей\n",
        "print(f1 > f2)    # Ожидаемый вывод: False\n",
        "print(f1 < f2)    # Ожидаемый вывод: True\n",
        "\n",
        "# Преобразование к float\n",
        "print(float(f1))  # Ожидаемый вывод: 0.75\n",
        "\n",
        "# Обратная дробь\n",
        "f7 = f1.reciprocal()\n",
        "print(f7)         # Ожидаемый вывод: 4/3\n",
        "\n",
        "# Создание дроби из float\n",
        "f8 = Fraction.from_float(0.75)\n",
        "print(f8)         # Ожидаемый вывод: 3/4\n",
        "\n",
        "# Проверка обработки исключений\n",
        "try:\n",
        "    f_invalid = Fraction(5, 0)\n",
        "except ValueError as e:\n",
        "    print(e)  # Ожидаемый вывод: Знаменатель не может быть нулем\n",
        "\n",
        "# Строковое и официальное представление\n",
        "print(str(f1))    # Ожидаемый вывод: 3/4\n",
        "print(repr(f1))   # Ожидаемый вывод: Fraction(3, 4)"
      ],
      "metadata": {
        "id": "U1UtgDM0xlqJ",
        "colab": {
          "base_uri": "https://localhost:8080/"
        },
        "outputId": "bc1248d0-16b4-4819-f114-bb97b3808908"
      },
      "execution_count": 24,
      "outputs": [
        {
          "output_type": "stream",
          "name": "stdout",
          "text": [
            "19/12\n",
            "-1/12\n",
            "5/8\n",
            "9/10\n",
            "True\n",
            "False\n",
            "True\n",
            "0.75\n",
            "4/3\n",
            "3/4\n",
            "Знаменатель не может быть нулём\n",
            "3/4\n",
            "Fraction(3, 4)\n"
          ]
        }
      ]
    }
  ]
}